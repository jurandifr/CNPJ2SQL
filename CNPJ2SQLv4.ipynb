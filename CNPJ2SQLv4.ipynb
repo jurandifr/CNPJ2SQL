{
 "cells": [
  {
   "cell_type": "markdown",
   "metadata": {},
   "source": [
    "Autor: Jurandi A. França  \n",
    "email: jurandi82@gmail.com  \n",
    "Versão: 3.20240907  "
   ]
  },
  {
   "cell_type": "markdown",
   "metadata": {},
   "source": [
    "# Imports"
   ]
  },
  {
   "cell_type": "code",
   "execution_count": 1,
   "metadata": {},
   "outputs": [],
   "source": [
    "import requests\n",
    "import re\n",
    "from concurrent.futures import ThreadPoolExecutor, as_completed\n",
    "from tqdm.notebook import tqdm, trange\n",
    "from bs4 import BeautifulSoup as bs\n",
    "import os\n",
    "import sqlalchemy as sa\n",
    "import zipfile\n",
    "import dask.dataframe as dd"
   ]
  },
  {
   "cell_type": "markdown",
   "metadata": {},
   "source": [
    "# Configuração"
   ]
  },
  {
   "cell_type": "code",
   "execution_count": 2,
   "metadata": {},
   "outputs": [],
   "source": [
    "# Link de download\n",
    "urlbase = \"https://dadosabertos.rfb.gov.br/CNPJ/dados_abertos_cnpj/2024-08/\""
   ]
  },
  {
   "cell_type": "markdown",
   "metadata": {
    "tags": []
   },
   "source": [
    "# Download"
   ]
  },
  {
   "cell_type": "code",
   "execution_count": 3,
   "metadata": {},
   "outputs": [],
   "source": [
    "# Pega data do arquivo\n",
    "soup = bs(requests.get(urlbase).content)\n",
    "dt = soup.findAll(\"tr\")[3].find_all('td')[2].get_text()[:10]\n",
    "uri_sqlite ='sqlite:///base_receita_' + dt + '.db'\n",
    "\n",
    "# Cria a pasta de dowloads se ela não existir\n",
    "dirpath= \"downloads/\"\n",
    "if not os.path.exists(dirpath):\n",
    "    os.makedirs(dirpath)"
   ]
  },
  {
   "cell_type": "code",
   "execution_count": 4,
   "metadata": {},
   "outputs": [],
   "source": [
    "# Função para chamadas multiplas\n",
    "def mapp(fn,data, workers=12):\n",
    "  tasks=[]\n",
    "  out = []\n",
    "  \n",
    "  with ThreadPoolExecutor(max_workers=workers) as tex:\n",
    "    tasks=[tex.submit(fn,i) for i in data]\n",
    "  \n",
    "  for task in as_completed(tasks):\n",
    "    out.append(task.result())\n",
    "  \n",
    "  return out"
   ]
  },
  {
   "cell_type": "code",
   "execution_count": 5,
   "metadata": {},
   "outputs": [],
   "source": [
    "def downloader(url):\n",
    "    try:\n",
    "        r = requests.get(url, stream=True)\n",
    "        total = int(r.headers.get('content-length', 0))\n",
    "    \n",
    "        if \"Content-Disposition\" in r.headers.keys():\n",
    "            fname = re.findall(\"filename=(.+)\",\n",
    "                        r.headers[\"Content-Disposition\"])[0]\n",
    "    \n",
    "        else:\n",
    "            fname = url.split(\"/\")[-1]\n",
    "    \n",
    "        with open(dirpath+fname, 'wb') as file, tqdm(\n",
    "        desc=fname, total=total, unit='iB', unit_scale=True, unit_divisor=1024) as bar:\n",
    "            for data in r.iter_content(chunk_size=1024):\n",
    "                size = file.write(data)\n",
    "                bar.update(size)\n",
    "    \n",
    "    except Exception as inst:\n",
    "        print(inst)    \n",
    "    \n",
    "    finally:\n",
    "        return [str(r.status_code), url]\n",
    "\n",
    "baixar = lambda l : \"Cancelado\" if input(\"Tem certeza? S/N\").upper() != \"S\" else ( mapp(downloader, l) )"
   ]
  },
  {
   "cell_type": "code",
   "execution_count": 6,
   "metadata": {},
   "outputs": [],
   "source": [
    "filelist = filter( lambda s: s.find(\".\")>0,\n",
    "                        [tag.attrs['href'] for tag in soup.find_all('a')])\n",
    "urllist = [ (urlbase + f) for f in filelist]"
   ]
  },
  {
   "cell_type": "code",
   "execution_count": 8,
   "metadata": {},
   "outputs": [
    {
     "data": {
      "application/vnd.jupyter.widget-view+json": {
       "model_id": "c29a7892cf8d4a969a1527cad6871e4d",
       "version_major": 2,
       "version_minor": 0
      },
      "text/plain": [
       "Empresas7.zip:   0%|          | 0.00/94.8M [00:00<?, ?iB/s]"
      ]
     },
     "metadata": {},
     "output_type": "display_data"
    },
    {
     "data": {
      "application/vnd.jupyter.widget-view+json": {
       "model_id": "4258b51e03b545a693671b47f7415d51",
       "version_major": 2,
       "version_minor": 0
      },
      "text/plain": [
       "Empresas2.zip:   0%|          | 0.00/75.4M [00:00<?, ?iB/s]"
      ]
     },
     "metadata": {},
     "output_type": "display_data"
    },
    {
     "data": {
      "application/vnd.jupyter.widget-view+json": {
       "model_id": "6de85c9b8ee44af2947295488860f86e",
       "version_major": 2,
       "version_minor": 0
      },
      "text/plain": [
       "Empresas3.zip:   0%|          | 0.00/81.2M [00:00<?, ?iB/s]"
      ]
     },
     "metadata": {},
     "output_type": "display_data"
    },
    {
     "data": {
      "application/vnd.jupyter.widget-view+json": {
       "model_id": "d15e28fea2504c4881df02c756d10dc0",
       "version_major": 2,
       "version_minor": 0
      },
      "text/plain": [
       "Empresas5.zip:   0%|          | 0.00/93.1M [00:00<?, ?iB/s]"
      ]
     },
     "metadata": {},
     "output_type": "display_data"
    },
    {
     "data": {
      "application/vnd.jupyter.widget-view+json": {
       "model_id": "6dc5762162334a91b6b488b41756a992",
       "version_major": 2,
       "version_minor": 0
      },
      "text/plain": [
       "Empresas8.zip:   0%|          | 0.00/95.0M [00:00<?, ?iB/s]"
      ]
     },
     "metadata": {},
     "output_type": "display_data"
    },
    {
     "data": {
      "application/vnd.jupyter.widget-view+json": {
       "model_id": "6e149b2f50a542299f8f3ef78176e7d8",
       "version_major": 2,
       "version_minor": 0
      },
      "text/plain": [
       "Empresas6.zip:   0%|          | 0.00/90.3M [00:00<?, ?iB/s]"
      ]
     },
     "metadata": {},
     "output_type": "display_data"
    },
    {
     "data": {
      "application/vnd.jupyter.widget-view+json": {
       "model_id": "9b21213f85914966b715cd07fcd13d25",
       "version_major": 2,
       "version_minor": 0
      },
      "text/plain": [
       "Cnaes.zip:   0%|          | 0.00/21.6k [00:00<?, ?iB/s]"
      ]
     },
     "metadata": {},
     "output_type": "display_data"
    },
    {
     "data": {
      "application/vnd.jupyter.widget-view+json": {
       "model_id": "de1790a1f9bb404f9d3e24e7ec1026d0",
       "version_major": 2,
       "version_minor": 0
      },
      "text/plain": [
       "Empresas0.zip:   0%|          | 0.00/341M [00:00<?, ?iB/s]"
      ]
     },
     "metadata": {},
     "output_type": "display_data"
    },
    {
     "data": {
      "application/vnd.jupyter.widget-view+json": {
       "model_id": "57ba5936cafa48e5b027e31cdf62d552",
       "version_major": 2,
       "version_minor": 0
      },
      "text/plain": [
       "Empresas4.zip:   0%|          | 0.00/86.2M [00:00<?, ?iB/s]"
      ]
     },
     "metadata": {},
     "output_type": "display_data"
    },
    {
     "data": {
      "application/vnd.jupyter.widget-view+json": {
       "model_id": "5fabd04cd653495dbbd92d1dd6421c57",
       "version_major": 2,
       "version_minor": 0
      },
      "text/plain": [
       "Estabelecimentos1.zip:   0%|          | 0.00/323M [00:00<?, ?iB/s]"
      ]
     },
     "metadata": {},
     "output_type": "display_data"
    },
    {
     "data": {
      "application/vnd.jupyter.widget-view+json": {
       "model_id": "783006a120f04ac795fa4929cbf1a1b0",
       "version_major": 2,
       "version_minor": 0
      },
      "text/plain": [
       "Empresas1.zip:   0%|          | 0.00/74.2M [00:00<?, ?iB/s]"
      ]
     },
     "metadata": {},
     "output_type": "display_data"
    },
    {
     "data": {
      "application/vnd.jupyter.widget-view+json": {
       "model_id": "ef7ca04f0a0f465d8388808c8d6be982",
       "version_major": 2,
       "version_minor": 0
      },
      "text/plain": [
       "Estabelecimentos0.zip:   0%|          | 0.00/1.29G [00:00<?, ?iB/s]"
      ]
     },
     "metadata": {},
     "output_type": "display_data"
    },
    {
     "data": {
      "application/vnd.jupyter.widget-view+json": {
       "model_id": "2985100cd89d4b9a8fb4ab7237dafe2f",
       "version_major": 2,
       "version_minor": 0
      },
      "text/plain": [
       "Empresas9.zip:   0%|          | 0.00/90.8M [00:00<?, ?iB/s]"
      ]
     },
     "metadata": {},
     "output_type": "display_data"
    },
    {
     "data": {
      "application/vnd.jupyter.widget-view+json": {
       "model_id": "0fa8328390e049ef869ff72b1595a1f6",
       "version_major": 2,
       "version_minor": 0
      },
      "text/plain": [
       "Estabelecimentos2.zip:   0%|          | 0.00/322M [00:00<?, ?iB/s]"
      ]
     },
     "metadata": {},
     "output_type": "display_data"
    },
    {
     "data": {
      "application/vnd.jupyter.widget-view+json": {
       "model_id": "869a21e742b74db1ba3af8b157a7b39c",
       "version_major": 2,
       "version_minor": 0
      },
      "text/plain": [
       "Estabelecimentos3.zip:   0%|          | 0.00/321M [00:00<?, ?iB/s]"
      ]
     },
     "metadata": {},
     "output_type": "display_data"
    },
    {
     "data": {
      "application/vnd.jupyter.widget-view+json": {
       "model_id": "72271a38a34a4f1a9bd3620553a247fe",
       "version_major": 2,
       "version_minor": 0
      },
      "text/plain": [
       "Estabelecimentos4.zip:   0%|          | 0.00/343M [00:00<?, ?iB/s]"
      ]
     },
     "metadata": {},
     "output_type": "display_data"
    },
    {
     "data": {
      "application/vnd.jupyter.widget-view+json": {
       "model_id": "2d6176f5d99840d8b7f130ea0892a8d1",
       "version_major": 2,
       "version_minor": 0
      },
      "text/plain": [
       "Estabelecimentos5.zip:   0%|          | 0.00/330M [00:00<?, ?iB/s]"
      ]
     },
     "metadata": {},
     "output_type": "display_data"
    },
    {
     "data": {
      "application/vnd.jupyter.widget-view+json": {
       "model_id": "5851c40bd6984fa8a5c3c978f3b83b86",
       "version_major": 2,
       "version_minor": 0
      },
      "text/plain": [
       "Estabelecimentos6.zip:   0%|          | 0.00/322M [00:00<?, ?iB/s]"
      ]
     },
     "metadata": {},
     "output_type": "display_data"
    },
    {
     "data": {
      "application/vnd.jupyter.widget-view+json": {
       "model_id": "e554409f48ef4f6fbe63e509e1a87861",
       "version_major": 2,
       "version_minor": 0
      },
      "text/plain": [
       "Estabelecimentos7.zip:   0%|          | 0.00/320M [00:00<?, ?iB/s]"
      ]
     },
     "metadata": {},
     "output_type": "display_data"
    },
    {
     "data": {
      "application/vnd.jupyter.widget-view+json": {
       "model_id": "a6d9f7e3bcbd46f4b59f27d8bfe8b132",
       "version_major": 2,
       "version_minor": 0
      },
      "text/plain": [
       "Estabelecimentos8.zip:   0%|          | 0.00/335M [00:00<?, ?iB/s]"
      ]
     },
     "metadata": {},
     "output_type": "display_data"
    },
    {
     "data": {
      "application/vnd.jupyter.widget-view+json": {
       "model_id": "00403fcd7a924b74899ac9994c8bcce5",
       "version_major": 2,
       "version_minor": 0
      },
      "text/plain": [
       "Estabelecimentos9.zip:   0%|          | 0.00/339M [00:00<?, ?iB/s]"
      ]
     },
     "metadata": {},
     "output_type": "display_data"
    },
    {
     "data": {
      "application/vnd.jupyter.widget-view+json": {
       "model_id": "0f0b325c54eb45ad9865b258a8ed0bf3",
       "version_major": 2,
       "version_minor": 0
      },
      "text/plain": [
       "Motivos.zip:   0%|          | 0.00/1.11k [00:00<?, ?iB/s]"
      ]
     },
     "metadata": {},
     "output_type": "display_data"
    },
    {
     "data": {
      "application/vnd.jupyter.widget-view+json": {
       "model_id": "4ee6c52bdc0b48da9f2134d865545d33",
       "version_major": 2,
       "version_minor": 0
      },
      "text/plain": [
       "Municipios.zip:   0%|          | 0.00/42.4k [00:00<?, ?iB/s]"
      ]
     },
     "metadata": {},
     "output_type": "display_data"
    },
    {
     "data": {
      "application/vnd.jupyter.widget-view+json": {
       "model_id": "3e0ff076da824f029ecfb93c3c6b5690",
       "version_major": 2,
       "version_minor": 0
      },
      "text/plain": [
       "Naturezas.zip:   0%|          | 0.00/1.49k [00:00<?, ?iB/s]"
      ]
     },
     "metadata": {},
     "output_type": "display_data"
    },
    {
     "data": {
      "application/vnd.jupyter.widget-view+json": {
       "model_id": "6ec7a4d461374e0cba83b1205da54309",
       "version_major": 2,
       "version_minor": 0
      },
      "text/plain": [
       "Paises.zip:   0%|          | 0.00/2.68k [00:00<?, ?iB/s]"
      ]
     },
     "metadata": {},
     "output_type": "display_data"
    },
    {
     "data": {
      "application/vnd.jupyter.widget-view+json": {
       "model_id": "b68415a01bb74baca7842586ead04a73",
       "version_major": 2,
       "version_minor": 0
      },
      "text/plain": [
       "Qualificacoes.zip:   0%|          | 0.00/980 [00:00<?, ?iB/s]"
      ]
     },
     "metadata": {},
     "output_type": "display_data"
    },
    {
     "data": {
      "application/vnd.jupyter.widget-view+json": {
       "model_id": "e135faa66425482ca9c9d863773063d6",
       "version_major": 2,
       "version_minor": 0
      },
      "text/plain": [
       "Simples.zip:   0%|          | 0.00/223M [00:00<?, ?iB/s]"
      ]
     },
     "metadata": {},
     "output_type": "display_data"
    },
    {
     "data": {
      "application/vnd.jupyter.widget-view+json": {
       "model_id": "9bf9caa40aab4315bd13f98fe369dadf",
       "version_major": 2,
       "version_minor": 0
      },
      "text/plain": [
       "Socios0.zip:   0%|          | 0.00/147M [00:00<?, ?iB/s]"
      ]
     },
     "metadata": {},
     "output_type": "display_data"
    },
    {
     "data": {
      "application/vnd.jupyter.widget-view+json": {
       "model_id": "611b294aa26c466087036d2bd047c8b1",
       "version_major": 2,
       "version_minor": 0
      },
      "text/plain": [
       "Socios1.zip:   0%|          | 0.00/47.1M [00:00<?, ?iB/s]"
      ]
     },
     "metadata": {},
     "output_type": "display_data"
    },
    {
     "data": {
      "application/vnd.jupyter.widget-view+json": {
       "model_id": "c4aa6b70a3374199ba6046094f00f373",
       "version_major": 2,
       "version_minor": 0
      },
      "text/plain": [
       "Socios2.zip:   0%|          | 0.00/46.8M [00:00<?, ?iB/s]"
      ]
     },
     "metadata": {},
     "output_type": "display_data"
    },
    {
     "data": {
      "application/vnd.jupyter.widget-view+json": {
       "model_id": "054872075ff04c8ea8383f32c7e3c186",
       "version_major": 2,
       "version_minor": 0
      },
      "text/plain": [
       "Socios3.zip:   0%|          | 0.00/46.9M [00:00<?, ?iB/s]"
      ]
     },
     "metadata": {},
     "output_type": "display_data"
    },
    {
     "data": {
      "application/vnd.jupyter.widget-view+json": {
       "model_id": "ea00978c3f294f9f8be6e008db0bda94",
       "version_major": 2,
       "version_minor": 0
      },
      "text/plain": [
       "Socios4.zip:   0%|          | 0.00/46.9M [00:00<?, ?iB/s]"
      ]
     },
     "metadata": {},
     "output_type": "display_data"
    },
    {
     "data": {
      "application/vnd.jupyter.widget-view+json": {
       "model_id": "fff1f5cbdd134cb0be18fa637c9d5c52",
       "version_major": 2,
       "version_minor": 0
      },
      "text/plain": [
       "Socios5.zip:   0%|          | 0.00/46.8M [00:00<?, ?iB/s]"
      ]
     },
     "metadata": {},
     "output_type": "display_data"
    },
    {
     "data": {
      "application/vnd.jupyter.widget-view+json": {
       "model_id": "4d4dd1ba7e724b36b2fd5b388d58afe6",
       "version_major": 2,
       "version_minor": 0
      },
      "text/plain": [
       "Socios6.zip:   0%|          | 0.00/47.1M [00:00<?, ?iB/s]"
      ]
     },
     "metadata": {},
     "output_type": "display_data"
    },
    {
     "data": {
      "application/vnd.jupyter.widget-view+json": {
       "model_id": "20c60472b5084399a55e910aad520538",
       "version_major": 2,
       "version_minor": 0
      },
      "text/plain": [
       "Socios7.zip:   0%|          | 0.00/47.0M [00:00<?, ?iB/s]"
      ]
     },
     "metadata": {},
     "output_type": "display_data"
    },
    {
     "data": {
      "application/vnd.jupyter.widget-view+json": {
       "model_id": "7a43d15f653e40b59c81b8b1b4f88813",
       "version_major": 2,
       "version_minor": 0
      },
      "text/plain": [
       "Socios8.zip:   0%|          | 0.00/46.8M [00:00<?, ?iB/s]"
      ]
     },
     "metadata": {},
     "output_type": "display_data"
    },
    {
     "data": {
      "application/vnd.jupyter.widget-view+json": {
       "model_id": "d71e6e9ac38a4ab8bf96314084adb473",
       "version_major": 2,
       "version_minor": 0
      },
      "text/plain": [
       "Socios9.zip:   0%|          | 0.00/47.0M [00:00<?, ?iB/s]"
      ]
     },
     "metadata": {},
     "output_type": "display_data"
    }
   ],
   "source": [
    "res = baixar(urllist)"
   ]
  },
  {
   "cell_type": "code",
   "execution_count": 17,
   "metadata": {},
   "outputs": [
    {
     "name": "stdout",
     "output_type": "stream",
     "text": [
      "[]\n"
     ]
    }
   ],
   "source": [
    "# Checa se deu erro e tenta novamente\n",
    "erros = [u[1] for u in filter(lambda x: x[0]!='200', res)]\n",
    "print(erros)\n",
    "#res = res if len(erros) == 0 else baixar(erros)"
   ]
  },
  {
   "cell_type": "markdown",
   "metadata": {
    "tags": []
   },
   "source": [
    "# Upload"
   ]
  },
  {
   "cell_type": "markdown",
   "metadata": {
    "tags": []
   },
   "source": [
    "## Funções"
   ]
  },
  {
   "cell_type": "code",
   "execution_count": 7,
   "metadata": {},
   "outputs": [],
   "source": [
    "dirlist= os.listdir(dirpath)\n",
    "engine = sa.create_engine(uri_sqlite)\n",
    "\n",
    "sql_exec = lambda q : engine.connect().execute(sa.text(q)).close()"
   ]
  },
  {
   "cell_type": "code",
   "execution_count": 8,
   "metadata": {},
   "outputs": [],
   "source": [
    "def upload(local, table, dcol, query=\"\"):\n",
    "    colunas=list(dcol.keys())\n",
    "    \n",
    "    sql_exec(\n",
    "        \"DROP TABLE IF EXISTS \\\"\" + table + \"\\\";\"\n",
    "        )\n",
    "    \n",
    "    if query != \"\":\n",
    "        sql_exec(query)\n",
    "        \n",
    "    block='default' if local.find('.zip') < 0 else None\n",
    "    df = dd.read_csv(local, header=None, encoding='latin1', sep=\";\",\n",
    "                    decimal=\",\", names=colunas, dtype=dcol, blocksize=block)\n",
    "    \n",
    "    for n in trange(df.npartitions, desc=table):\n",
    "        df.get_partition(n).compute().to_sql( name=table, con=engine,\n",
    "                        if_exists= 'append', chunksize=1000, index=False)\n",
    "    \n",
    "    # sql_exec(\n",
    "    #     \"CREATE INDEX IF NOT EXISTS idx_\" + table + \" ON \\\"\" + table + \"\\\" (\\\"\" + df.columns[0] + \"\\\")\"\n",
    "    #     )"
   ]
  },
  {
   "cell_type": "code",
   "execution_count": 9,
   "metadata": {},
   "outputs": [],
   "source": [
    "def extract(flist,filtro):\n",
    "    filenames=[]\n",
    "    files=list(filter(lambda x: not x.find(filtro), dirlist))\n",
    "    \n",
    "    for filename in files:\n",
    "            zip=zipfile.ZipFile(dirpath+filename)\n",
    "            filenames.append(dirpath+zip.filelist[0].filename)\n",
    "            zip.extractall(path=dirpath)\n",
    "    \n",
    "    return filenames\n",
    "\n",
    "def remove(flist):\n",
    "    for f in flist:\n",
    "        os.remove(f)"
   ]
  },
  {
   "cell_type": "markdown",
   "metadata": {
    "tags": []
   },
   "source": [
    "## Começo do Upload"
   ]
  },
  {
   "cell_type": "code",
   "execution_count": 29,
   "metadata": {},
   "outputs": [
    {
     "data": {
      "application/vnd.jupyter.widget-view+json": {
       "model_id": "621a8d27e2784604ae3ab7f43daf11e3",
       "version_major": 2,
       "version_minor": 0
      },
      "text/plain": [
       "MUNICIPIO:   0%|          | 0/1 [00:00<?, ?it/s]"
      ]
     },
     "metadata": {},
     "output_type": "display_data"
    }
   ],
   "source": [
    "local=dirpath+'Municipios.zip'\n",
    "dcol = {\"CD_MUNICIPIO\": \"int\",\"MUNICIPIO\":\"str\"}\n",
    "table='MUNICIPIO'\n",
    "query = \"\"\"\n",
    "CREATE TABLE \"MUNICIPIO\" (\n",
    "\t\"CD_MUNICIPIO\" INTEGER PRIMARY KEY, \n",
    "\t\"MUNICIPIO\" TEXT NOT NULL\n",
    ");\n",
    "\"\"\"\n",
    "upload(local, table, dcol, query)"
   ]
  },
  {
   "cell_type": "code",
   "execution_count": 30,
   "metadata": {},
   "outputs": [
    {
     "data": {
      "application/vnd.jupyter.widget-view+json": {
       "model_id": "46f774c5c70d4b07b6be7fc487d350ff",
       "version_major": 2,
       "version_minor": 0
      },
      "text/plain": [
       "CNAE:   0%|          | 0/1 [00:00<?, ?it/s]"
      ]
     },
     "metadata": {},
     "output_type": "display_data"
    }
   ],
   "source": [
    "local=dirpath+'Cnaes.zip'\n",
    "dcol = {\"CNAE\": \"int\",\"NM_CNAE\":\"str\"}\n",
    "table='CNAE'\n",
    "query = \"\"\"\n",
    "CREATE TABLE \"CNAE\" (\n",
    "\t\"CNAE\" INTEGER PRIMARY KEY, \n",
    "\t\"NM_CNAE\" TEXT NOT NULL\n",
    ");\n",
    "\"\"\"\n",
    "upload(local, table, dcol,query)"
   ]
  },
  {
   "cell_type": "code",
   "execution_count": 31,
   "metadata": {},
   "outputs": [
    {
     "data": {
      "application/vnd.jupyter.widget-view+json": {
       "model_id": "e48607972cb8430a9af3860aa60938af",
       "version_major": 2,
       "version_minor": 0
      },
      "text/plain": [
       "PAIS:   0%|          | 0/1 [00:00<?, ?it/s]"
      ]
     },
     "metadata": {},
     "output_type": "display_data"
    }
   ],
   "source": [
    "local=dirpath+'Paises.zip'\n",
    "dcol = {\"CD_PAIS\": \"int\",\"PAIS\":\"str\"}\n",
    "table='PAIS'\n",
    "query = \"\"\"\n",
    "CREATE TABLE \"PAIS\" (\n",
    "\t\"CD_PAIS\" INTEGER PRIMARY KEY,\n",
    "\t\"PAIS\" TEXT NOT NULL\n",
    ");\n",
    "\"\"\"\n",
    "upload(local, table, dcol, query)"
   ]
  },
  {
   "cell_type": "code",
   "execution_count": 36,
   "metadata": {},
   "outputs": [
    {
     "data": {
      "application/vnd.jupyter.widget-view+json": {
       "model_id": "00c863557ee54e4abc8b2063d0770339",
       "version_major": 2,
       "version_minor": 0
      },
      "text/plain": [
       "NATJU:   0%|          | 0/1 [00:00<?, ?it/s]"
      ]
     },
     "metadata": {},
     "output_type": "display_data"
    }
   ],
   "source": [
    "local=dirpath+'Naturezas.zip'\n",
    "dcol={\"CD_NAT_JURIDICA\": \"int\",\"NAT_JURIDICA\":\"str\"}\n",
    "table='NATJU'\n",
    "query = \"\"\"\n",
    "CREATE TABLE \"NATJU\" (\n",
    "\t\"CD_NAT_JURIDICA\" INTEGER PRIMARY KEY,\n",
    "\t\"NAT_JURIDICA\" TEXT NOT NULL\n",
    ");\n",
    "\"\"\"\n",
    "upload(local, table, dcol, query)"
   ]
  },
  {
   "cell_type": "code",
   "execution_count": 37,
   "metadata": {},
   "outputs": [
    {
     "data": {
      "application/vnd.jupyter.widget-view+json": {
       "model_id": "fcc92d790cf9451eb30c447bd96ad721",
       "version_major": 2,
       "version_minor": 0
      },
      "text/plain": [
       "MOTIVOSIT:   0%|          | 0/1 [00:00<?, ?it/s]"
      ]
     },
     "metadata": {},
     "output_type": "display_data"
    }
   ],
   "source": [
    "local=dirpath+'Motivos.zip'\n",
    "dcol={\"CD_MOTIVO_SIT_CADASTRO\":\"int\",\"MOTIVO_SIT_CADASTRO\":\"str\"}\n",
    "table='MOTIVOSIT'\n",
    "query=\"\"\"\n",
    "CREATE TABLE \"MOTIVOSIT\" (\n",
    "\t\"CD_MOTIVO_SIT_CADASTRO\" INTEGER PRIMARY KEY, \n",
    "\t\"MOTIVO_SIT_CADASTRO\" TEXT NOT NULL\n",
    ");\n",
    "\"\"\"\n",
    "upload(local, table, dcol, query)"
   ]
  },
  {
   "cell_type": "code",
   "execution_count": 38,
   "metadata": {},
   "outputs": [
    {
     "data": {
      "application/vnd.jupyter.widget-view+json": {
       "model_id": "b4de3fac443844a6bdeccd48bcc3c835",
       "version_major": 2,
       "version_minor": 0
      },
      "text/plain": [
       "QUALS:   0%|          | 0/1 [00:00<?, ?it/s]"
      ]
     },
     "metadata": {},
     "output_type": "display_data"
    }
   ],
   "source": [
    "local=dirpath+'Qualificacoes.zip'\n",
    "dcol={\"CD_QUALS\":\"int\",\"NM_QUALS\":\"str\"}\n",
    "table='QUALS'\n",
    "query = \"\"\"\n",
    "CREATE TABLE \"QUALS\" (\n",
    "\t\"CD_QUALS\" INTEGER PRIMARY KEY, \n",
    "\t\"NM_QUALS\" TEXT NOT NULL\n",
    ");\n",
    "\"\"\"\n",
    "upload(local, table, dcol, query)"
   ]
  },
  {
   "cell_type": "markdown",
   "metadata": {},
   "source": [
    "parei aqui em 10/09/2024"
   ]
  },
  {
   "cell_type": "code",
   "execution_count": 12,
   "metadata": {},
   "outputs": [
    {
     "data": {
      "application/vnd.jupyter.widget-view+json": {
       "model_id": "b76e1df30624496cb319dba44bfaa50c",
       "version_major": 2,
       "version_minor": 0
      },
      "text/plain": [
       "EMPRESA:   0%|          | 0/67 [00:00<?, ?it/s]"
      ]
     },
     "metadata": {},
     "output_type": "display_data"
    }
   ],
   "source": [
    "lista= extract(dirlist,\"Empre\")\n",
    "\n",
    "local=dirpath+'*.EMPRECSV'\n",
    "dcol = {\n",
    "    \"CNPJ_BASICO\":\"int\",\n",
    "    \"RAZAO_SOCIAL\":\"str\",\n",
    "    \"NAT_JURIDICA\":\"int\",\n",
    "    \"QUAL_RESP\":\"int\",\n",
    "    \"CAPITAL_SOCIAL\":\"float\",\n",
    "    \"PORTE_EMPRESA\":\"Int64\",\n",
    "    \"ENTE_FED_RESP\":\"str\"\n",
    "    }\n",
    "table='EMPRESA'\n",
    "query=\"\"\"\n",
    "CREATE TABLE \"EMPRESA\" (\n",
    "\t\"CNPJ_BASICO\" INTEGER PRIMARY KEY, \n",
    "\t\"RAZAO_SOCIAL\" TEXT NOT NULL ON CONFLICT IGNORE, \n",
    "\t\"NAT_JURIDICA\" INTEGER, \n",
    "\t\"QUAL_RESP\" INTEGER, \n",
    "\t\"CAPITAL_SOCIAL\" FLOAT, \n",
    "\t\"PORTE_EMPRESA\" INT NULL, \n",
    "\t\"ENTE_FED_RESP\" TEXT,\n",
    "\tFOREIGN KEY (\"NAT_JURIDICA\") REFERENCES \"NATJU\"(\"CD_NAT_JURIDICA\"),\n",
    "\tFOREIGN KEY (\"QUAL_RESP\") REFERENCES \"QUALS\"(\"CD_QUALS\")\n",
    ");\n",
    "\"\"\"\n",
    "upload(local, table, dcol, query)\n",
    "\n",
    "remove(lista)"
   ]
  },
  {
   "cell_type": "code",
   "execution_count": 14,
   "metadata": {},
   "outputs": [
    {
     "data": {
      "application/vnd.jupyter.widget-view+json": {
       "model_id": "d95c396ad9004bc1bfd26fd7325fc1cb",
       "version_major": 2,
       "version_minor": 0
      },
      "text/plain": [
       "SIMPLES:   0%|          | 0/39 [00:00<?, ?it/s]"
      ]
     },
     "metadata": {},
     "output_type": "display_data"
    }
   ],
   "source": [
    "lista= extract(dirlist,\"Simples\")\n",
    "\n",
    "local=dirpath+'*.SIMPLES.*'\n",
    "dcol={\n",
    "    \"CNPJ_BASICO\":\"int\",\n",
    "    \"OP_SIMPLES\":\"str\",\n",
    "    \"DT_OP_SIMPLES\":\"int\",\n",
    "    \"DT_EXC_SIMPLES\":\"int\",\n",
    "    \"OP_MEI\":\"str\",\n",
    "    \"DT_OP_MEI\":\"int\",\n",
    "    \"DT_EXC_MEI\":\"int\"\n",
    "    }\n",
    "table='SIMPLES'\n",
    "query = \"\"\"\n",
    "CREATE TABLE \"SIMPLES\" (\n",
    "\t\"CNPJ_BASICO\" INTEGER PRIMARY KEY, \n",
    "\t\"OP_SIMPLES\" TEXT, \n",
    "\t\"DT_OP_SIMPLES\" INTEGER, \n",
    "\t\"DT_EXC_SIMPLES\" INTEGER, \n",
    "\t\"OP_MEI\" TEXT, \n",
    "\t\"DT_OP_MEI\" INTEGER, \n",
    "\t\"DT_EXC_MEI\" INTEGER,\n",
    " \tFOREIGN KEY (\"CNPJ_BASICO\") REFERENCES \"EMPRESA\"(\"CNPJ_BASICO\")\n",
    ");\n",
    "\"\"\"\n",
    "upload(local, table, dcol, query)\n",
    "\n",
    "remove(lista)"
   ]
  },
  {
   "cell_type": "code",
   "execution_count": 15,
   "metadata": {},
   "outputs": [
    {
     "data": {
      "application/vnd.jupyter.widget-view+json": {
       "model_id": "d228f59b4ed648b594d9fe82b8907b5a",
       "version_major": 2,
       "version_minor": 0
      },
      "text/plain": [
       "ESTABELE:   0%|          | 0/216 [00:00<?, ?it/s]"
      ]
     },
     "metadata": {},
     "output_type": "display_data"
    }
   ],
   "source": [
    "lista= extract(dirlist,\"Estabelecimentos\")\n",
    "\n",
    "local=dirpath+'*.ESTABELE'\n",
    "dcol={\n",
    "    \"CNPJ_BASICO\":\"int\",\n",
    "    \"CNPJ_ORDEM\":\"int\",\n",
    "    \"CNPJ_DV\":\"int\",\n",
    "    \"CD_MATRIZ_FILIAL\":\"int\",\n",
    "    \"NM_FANTASIA\":\"str\",\n",
    "    \"CD_SIT_CADASTRO\":\"int\",\n",
    "    \"DT_SIT_CADASTRO\":\"int\",\n",
    "    \"MOTIVO_SIT_CADASTRO\":\"int\",\n",
    "    \"NM_CIDADE_EXT\":\"str\",\n",
    "    \"CD_PAIS\":\"Int64\",\n",
    "    \"DT_INI\":\"int\",\n",
    "    \"CNAE_PRINCIPAL\":\"int\",\n",
    "    \"CNAE_SECUNDARIO\":\"str\",\n",
    "    \"TIP_LOGRADOURO\":\"str\",\n",
    "    \"LOGRADOURO\":\"str\",\n",
    "    \"NUMERO\":\"str\",\n",
    "    \"COMPLEMENTO\":\"str\",\n",
    "    \"BAIRRO\":\"str\",\n",
    "    \"CEP\":\"str\",\n",
    "    \"UF\":\"str\",\n",
    "    \"MUNICIPIO\":\"int\",\n",
    "    \"DDD_1\":\"str\",\n",
    "    \"TEL_1\":\"str\",\n",
    "    \"DDD_2\":\"str\",\n",
    "    \"TEL_2\":\"str\",\n",
    "    \"DDD_FAX\":\"str\",\n",
    "    \"FAX\":\"str\",\n",
    "    \"EMAIL\":\"str\",\n",
    "    \"SIT_ESP\":\"str\",\n",
    "    \"DT_SIT_ESP\":\"Int64\"}\n",
    "table='ESTABELE'\n",
    "query = \"\"\"\n",
    "CREATE TABLE \"ESTABELE\" (\n",
    "\t\"CNPJ_BASICO\" INTEGER, \n",
    "\t\"CNPJ_ORDEM\" INTEGER, \n",
    "\t\"CNPJ_DV\" INTEGER, \n",
    "\t\"CD_MATRIZ_FILIAL\" INTEGER, \n",
    "\t\"NM_FANTASIA\" TEXT, \n",
    "\t\"CD_SIT_CADASTRO\" INTEGER, \n",
    "\t\"DT_SIT_CADASTRO\" INTEGER, \n",
    "\t\"MOTIVO_SIT_CADASTRO\" INTEGER, \n",
    "\t\"NM_CIDADE_EXT\" TEXT, \n",
    "\t\"CD_PAIS\" INT NULL, \n",
    "\t\"DT_INI\" INTEGER, \n",
    "\t\"CNAE_PRINCIPAL\" TEXT, \n",
    "\t\"CNAE_SECUNDARIO\" TEXT, \n",
    "\t\"TIP_LOGRADOURO\" TEXT, \n",
    "\t\"LOGRADOURO\" TEXT, \n",
    "\t\"NUMERO\" TEXT, \n",
    "\t\"COMPLEMENTO\" TEXT, \n",
    "\t\"BAIRRO\" TEXT, \n",
    "\t\"CEP\" TEXT, \n",
    "\t\"UF\" TEXT, \n",
    "\t\"MUNICIPIO\" INTEGER, \n",
    "\t\"DDD_1\" TEXT, \n",
    "\t\"TEL_1\" TEXT, \n",
    "\t\"DDD_2\" TEXT, \n",
    "\t\"TEL_2\" TEXT, \n",
    "\t\"DDD_FAX\" TEXT, \n",
    "\t\"FAX\" TEXT, \n",
    "\t\"EMAIL\" TEXT, \n",
    "\t\"SIT_ESP\" TEXT, \n",
    "\t\"DT_SIT_ESP\" INT NULL,\n",
    "\tPRIMARY KEY (\"CNPJ_BASICO\", \"CNPJ_ORDEM\"),\n",
    "\tFOREIGN KEY (\"CNPJ_BASICO\") REFERENCES \"EMPRESA\"(\"CNPJ_BASICO\"),\n",
    "\tFOREIGN KEY (\"MOTIVO_SIT_CADASTRO\") REFERENCES \"MOTIVOSIT\"(\"CD_MOTIVOSIT\"),\n",
    "\tFOREIGN KEY (\"CD_PAIS\") REFERENCES \"PAIS\"(\"CD_PAIS\"),\n",
    "\tFOREIGN KEY (\"CNAE_PRINCIPAL\") REFERENCES \"CNAE\"(\"CNAE\")\n",
    "\tFOREIGN KEY (\"MUNICIPIO\") REFERENCES \"MUNICIPIO\"(\"CD_MUNICIPIO\")\n",
    ");\n",
    "\"\"\"\n",
    "upload(local, table, dcol)\n",
    "\n",
    "remove(lista)"
   ]
  },
  {
   "cell_type": "code",
   "execution_count": 16,
   "metadata": {},
   "outputs": [
    {
     "data": {
      "application/vnd.jupyter.widget-view+json": {
       "model_id": "d68e80e143e848e4a28c10193e8ac53f",
       "version_major": 2,
       "version_minor": 0
      },
      "text/plain": [
       "SOCIO:   0%|          | 0/37 [00:00<?, ?it/s]"
      ]
     },
     "metadata": {},
     "output_type": "display_data"
    }
   ],
   "source": [
    "lista= extract(dirlist,\"Socios\")\n",
    "\n",
    "local=dirpath+'*.SOCIOCSV'\n",
    "dcol={\n",
    "    \"CNPJ_BASICO\":\"int\",\n",
    "    \"ID_TIPO_SOCIO\":\"int\",\n",
    "    \"NOME_OU_RAZAO_SOCIAL\":\"str\",\n",
    "    \"CNPJ_CPF\":\"str\",\n",
    "    \"QUALIF_SOCIO\":\"int\",\n",
    "    \"DT_ENTRADA\":\"int\",\n",
    "    \"CD_PAIS\":\"Int64\",\n",
    "    \"REPR_LEGAL\":\"str\",\n",
    "    \"NM_REPR\":\"str\",\n",
    "    \"CD_QUALIF_REPR\":\"int\",\n",
    "    \"FAIXA_ETARIA\":\"int\"\n",
    "    }\n",
    "table='SOCIO'\n",
    "query = \"\"\"\n",
    "CREATE TABLE \"SOCIO\" (\n",
    "\t\"CNPJ_BASICO\" INTEGER, \n",
    "\t\"ID_TIPO_SOCIO\" INTEGER, \n",
    "\t\"NOME_OU_RAZAO_SOCIAL\" TEXT, \n",
    "\t\"CNPJ_CPF\" TEXT, \n",
    "\t\"QUALIF_SOCIO\" INTEGER, \n",
    "\t\"DT_ENTRADA\" INTEGER, \n",
    "\t\"CD_PAIS\" INTEGER NULL, \n",
    "\t\"REPR_LEGAL\" TEXT, \n",
    "\t\"NM_REPR\" TEXT, \n",
    "\t\"CD_QUALIF_REPR\" INTEGER, \n",
    "\t\"FAIXA_ETARIA\" INTEGER,\n",
    "\tFOREIGN KEY (\"CNPJ_BASICO\") REFERENCES \"EMPRESA\"(\"CNPJ_BASICO\"),\n",
    "\tFOREIGN KEY (\"QUALIF_SOCIO\") REFERENCES \"QUALS\"(\"CD_QUALS\"),\n",
    "\tFOREIGN KEY (\"CD_QUALIF_REPR\") REFERENCES \"QUALS\"(\"CD_QUALS\"),\n",
    "\tFOREIGN KEY (\"CD_PAIS\") REFERENCES \"PAIS\"(\"CD_PAIS\")\n",
    ");\n",
    "\"\"\"\n",
    "upload(local, table, dcol)\n",
    "\n",
    "remove(lista)\n",
    "\n"
   ]
  },
  {
   "cell_type": "code",
   "execution_count": 17,
   "metadata": {},
   "outputs": [],
   "source": [
    "# Indices para a tabela Socios\n",
    "sql_exec(\"\"\" CREATE INDEX idx_SOCIO ON \"SOCIO\" (\"CNPJ_BASICO\"); \"\"\")\n",
    "sql_exec(\"\"\" CREATE INDEX idx_SOCIO_NOME_CPF on SOCIO (NOME_OU_RAZAO_SOCIAL,CNPJ_CPF); \"\"\")"
   ]
  },
  {
   "cell_type": "code",
   "execution_count": 18,
   "metadata": {},
   "outputs": [],
   "source": [
    "ziplist = filter( lambda x: (x.find(\".zip\") > 0), dirlist)\n",
    "ziplist = [ (dirpath + f) for f in ziplist ]\n",
    "\"Cancelado\" if input(\"Tem certeza? S/N\").upper() != \"S\" else ( remove(ziplist) )"
   ]
  },
  {
   "cell_type": "markdown",
   "metadata": {},
   "source": [
    "# Criar Views"
   ]
  },
  {
   "cell_type": "code",
   "execution_count": 19,
   "metadata": {},
   "outputs": [],
   "source": [
    "# Criar Views SOCIO\n",
    "query = '''\n",
    "CREATE VIEW VW_SOCIO as\n",
    "SELECT \n",
    "\ts.CNPJ_BASICO,\n",
    "\te.RAZAO_SOCIAL,\n",
    "\t(CASE ID_TIPO_SOCIO\n",
    "\t\tWHEN 1 THEN 'PJ'\n",
    "\t\tWHEN 2 THEN 'PF'\n",
    "\t\tWHEN 3 THEN 'EX'\n",
    "\tEND) AS TIPO_SOCIO,\n",
    "\ts.NOME_OU_RAZAO_SOCIAL,\n",
    "\ts.CNPJ_CPF,\n",
    "\tq.NM_QUALS AS NM_QUALIF_SOCIO,\n",
    "\ts.DT_ENTRADA,\n",
    "\tp.PAIS,\n",
    "\ts.REPR_LEGAL AS CPF_REPR_LEGAL,\n",
    "\ts.NM_REPR,\n",
    "\tqs.NM_QUALS  AS NM_QUALIF_REPR,\n",
    "\ts.FAIXA_ETARIA \n",
    "FROM SOCIO s \n",
    "LEFT JOIN EMPRESA e \n",
    "\tON s.CNPJ_BASICO = e.CNPJ_BASICO\n",
    "LEFT JOIN QUALS q \n",
    "\tON s.QUALIF_SOCIO = q.CD_QUALS\n",
    "LEFT JOIN QUALS qs \n",
    "\tON s.QUALIF_SOCIO = qs.CD_QUALS\n",
    "LEFT JOIN PAIS p \n",
    "\tON s.CD_PAIS = p.CD_PAIS ;\n",
    "'''\n",
    "sql_exec(query)"
   ]
  },
  {
   "cell_type": "code",
   "execution_count": 20,
   "metadata": {},
   "outputs": [],
   "source": [
    "# Criar Views EMPRESA\n",
    "query = '''\n",
    "CREATE view VW_EMPRESA as\n",
    "SELECT \n",
    "\te.CNPJ_BASICO,\n",
    "\te.RAZAO_SOCIAL,\n",
    "\tn.NAT_JURIDICA,\n",
    "\tq.NM_QUALS AS NM_QUAL_RESP,\n",
    "\te.CAPITAL_SOCIAL,\n",
    "\t(CASE e.PORTE_EMPRESA\n",
    "\t\tWHEN 0 THEN 'N/A'\n",
    "\t\tWHEN 1 THEN 'ME'\n",
    "\t\tWHEN 3 THEN 'EPP'\n",
    "\t\tWHEN 5 THEN 'DEMAIS'\n",
    "\tend) AS PORTE_EMPRESA ,\n",
    "\te.ENTE_FED_RESP \n",
    "FROM EMPRESA e \n",
    "LEFT JOIN NATJU n \n",
    "\tON e.NAT_JURIDICA = n.CD_NAT_JURIDICA\n",
    "LEFT JOIN QUALS q \n",
    "\tON e.QUAL_RESP = q.CD_QUALS;\n",
    "'''\n",
    "sql_exec(query)"
   ]
  },
  {
   "cell_type": "code",
   "execution_count": 21,
   "metadata": {},
   "outputs": [],
   "source": [
    "# Criar Views ESTABELE\n",
    "query = '''\n",
    "CREATE view VW_ESTABELE AS\n",
    "SELECT\n",
    "\te.CNPJ_BASICO,\n",
    "\te.CNPJ_ORDEM,\n",
    "\te.CNPJ_DV,\n",
    "\t(CASE e.CD_MATRIZ_FILIAL\n",
    "\t\tWHEN 1 THEN 'MATRIZ'\n",
    "\t\tWHEN 2 THEN 'FILIAL'\n",
    "\tEND) AS MATRIZ_FILIAL , \n",
    "\te.NM_FANTASIA,\n",
    "\t(CASE e.CD_SIT_CADASTRO\n",
    "\t\tWHEN 1 THEN 'NULA'\n",
    "\t\tWHEN 2 THEN 'ATIVA'\n",
    "\t\tWHEN 3 THEN 'SUSPENSA'\n",
    "\t\tWHEN 4 THEN 'INAPTA'\n",
    "\t\tWHEN 8 THEN 'BAIXADA'\n",
    "\tend) AS SIT_CADASTRO,\n",
    "\te.DT_SIT_CADASTRO,\n",
    "\tm.MOTIVO_SIT_CADASTRO AS MOTIVO_SIT_CADASTRO,\n",
    "\te.NM_CIDADE_EXT,\n",
    "\tp.PAIS,\n",
    "\te.DT_INI,\n",
    "\tc.NM_CNAE, \n",
    "\te.CNAE_PRINCIPAL,\n",
    "\te.CNAE_SECUNDARIO,\n",
    "\te.TIP_LOGRADOURO,\n",
    "\te.LOGRADOURO,\n",
    "\te.NUMERO,\n",
    "\te.COMPLEMENTO,\n",
    "\te.BAIRRO,\n",
    "\te.CEP,\n",
    "\te.UF,\n",
    "\tm2.MUNICIPIO,\n",
    "\te.DDD_1,\n",
    "\te.TEL_1,\n",
    "\te.DDD_2,\n",
    "\te.TEL_2,\n",
    "\te.DDD_FAX,\n",
    "\te.FAX,\n",
    "\te.EMAIL,\n",
    "\te.SIT_ESP,\n",
    "\te.DT_SIT_ESP \n",
    "FROM ESTABELE e \n",
    "LEFT JOIN MOTIVOSIT m \n",
    "\tON e.MOTIVO_SIT_CADASTRO = m.CD_MOTIVO_SIT_CADASTRO \n",
    "LEFT JOIN PAIS p \n",
    "\tON e.CD_PAIS = p.CD_PAIS \n",
    "LEFT JOIN CNAE c \n",
    "\tON e.CNAE_PRINCIPAL = c.CNAE \n",
    "LEFT JOIN MUNICIPIO m2 \n",
    "\tON e.MUNICIPIO = m2.CD_MUNICIPIO ;\n",
    "'''\n",
    "sql_exec(query)"
   ]
  },
  {
   "cell_type": "code",
   "execution_count": 22,
   "metadata": {},
   "outputs": [],
   "source": [
    "# Criar uma view para grafo societario\n",
    "query = '''\n",
    "CREATE view if not exists grapho as\n",
    "SELECT\n",
    "\tSUBSTR(\"0000000\" || CNPJ_BASICO,-8) as A,\n",
    "\t(case\n",
    "\t\twhen CNPJ_CPF LIKE '***%' then (COALESCE(NOME_OU_RAZAO_SOCIAL,\"\") || \" - \" || CNPJ_CPF)\n",
    "\t\twhen CNPJ_CPF is null then NOME_OU_RAZAO_SOCIAL\n",
    "\t\telse SUBSTR(CNPJ_CPF, 1, 8) end) as B\n",
    "FROM SOCIO\n",
    "union all\n",
    "SELECT\n",
    "\tSUBSTR(\"0000000\" || CNPJ_BASICO,-8) as A,\n",
    "\t(case\n",
    "\t\twhen REPR_LEGAL LIKE '***%' then (NM_REPR || \" - \" || REPR_LEGAL)\n",
    "\t\telse NM_REPR end) as B\n",
    "FROM SOCIO\n",
    "WHERE NM_REPR is not null;\n",
    "'''\n",
    "sql_exec(query)"
   ]
  },
  {
   "cell_type": "code",
   "execution_count": 23,
   "metadata": {},
   "outputs": [],
   "source": [
    "sql_exec(\"vacuum;\")"
   ]
  },
  {
   "cell_type": "markdown",
   "metadata": {
    "jp-MarkdownHeadingCollapsed": true,
    "tags": []
   },
   "source": [
    "## Testes"
   ]
  },
  {
   "cell_type": "code",
   "execution_count": null,
   "metadata": {},
   "outputs": [],
   "source": []
  }
 ],
 "metadata": {
  "kernelspec": {
   "display_name": "Python 3 (ipykernel)",
   "language": "python",
   "name": "python3"
  },
  "language_info": {
   "codemirror_mode": {
    "name": "ipython",
    "version": 3
   },
   "file_extension": ".py",
   "mimetype": "text/x-python",
   "name": "python",
   "nbconvert_exporter": "python",
   "pygments_lexer": "ipython3",
   "version": "3.9.5"
  },
  "vscode": {
   "interpreter": {
    "hash": "a8df82f0ff7dbbdeab208b32e1dbd0468ab7b7612b95c95cc2c310a142438cff"
   }
  }
 },
 "nbformat": 4,
 "nbformat_minor": 4
}
