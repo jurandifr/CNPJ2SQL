{
 "cells": [
  {
   "cell_type": "markdown",
   "metadata": {
    "tags": []
   },
   "source": [
    "# Download"
   ]
  },
  {
   "cell_type": "code",
   "execution_count": 1,
   "metadata": {},
   "outputs": [],
   "source": [
    "import requests\n",
    "import re\n",
    "from concurrent.futures import ThreadPoolExecutor, as_completed\n",
    "from tqdm.notebook import tqdm, trange\n",
    "from bs4 import BeautifulSoup as bs\n",
    "import os\n",
    "import sqlalchemy as sa\n",
    "import zipfile\n",
    "import dask.dataframe as dd"
   ]
  },
  {
   "cell_type": "code",
   "execution_count": 8,
   "metadata": {},
   "outputs": [],
   "source": [
    "# configuacoes\n",
    "urlbase = \"https://dadosabertos.rfb.gov.br/CNPJ/\"\n",
    "uri_sqlite ='sqlite:///base_receitaYYYYMMDD.db'\n",
    "dirpath= \"downloads/\" # vai criar a pasta se ela não existir\n",
    "if not os.path.exists(dirpath):\n",
    "    os.makedirs(dirpath)"
   ]
  },
  {
   "cell_type": "code",
   "execution_count": 9,
   "metadata": {},
   "outputs": [],
   "source": [
    "def mapp(fn,data, workers=8):\n",
    "  tasks=[]\n",
    "  out = []\n",
    "  with ThreadPoolExecutor(max_workers=workers) as tex:\n",
    "    tasks=[tex.submit(fn,i) for i in data]\n",
    "  for task in as_completed(tasks):\n",
    "    out.append(task.result())\n",
    "  return out"
   ]
  },
  {
   "cell_type": "code",
   "execution_count": 10,
   "metadata": {},
   "outputs": [],
   "source": [
    "def downloader(url):\n",
    "    try:\n",
    "        r = requests.get(url, stream=True)\n",
    "        total = int(r.headers.get('content-length', 0))\n",
    "        if \"Content-Disposition\" in r.headers.keys():\n",
    "            fname = re.findall(\"filename=(.+)\", r.headers[\"Content-Disposition\"])[0]\n",
    "        else:\n",
    "            fname = url.split(\"/\")[-1]\n",
    "        with open(dirpath+fname, 'wb') as file, tqdm(desc=fname, total=total, unit='iB', unit_scale=True, unit_divisor=1024) as bar:\n",
    "            for data in r.iter_content(chunk_size=1024):\n",
    "                size = file.write(data)\n",
    "                bar.update(size)\n",
    "    except Exception as inst:\n",
    "        print(inst)          # __str__ allows args to be printed directly,    \n",
    "    finally:\n",
    "        return [str(r.status_code), url]"
   ]
  },
  {
   "cell_type": "code",
   "execution_count": 11,
   "metadata": {},
   "outputs": [],
   "source": [
    "filelist = list( filter( lambda s: s.find(\".\")>0,\n",
    "                        [tag.attrs['href'] for tag in bs(requests.get(urlbase).content).find_all('a')]))"
   ]
  },
  {
   "cell_type": "code",
   "execution_count": 12,
   "metadata": {},
   "outputs": [],
   "source": [
    "urllist = [urlbase+f for f in filelist]"
   ]
  },
  {
   "cell_type": "code",
   "execution_count": 13,
   "metadata": {},
   "outputs": [
    {
     "data": {
      "application/vnd.jupyter.widget-view+json": {
       "model_id": "4945788f67b14b25a7677b5ec721b1f1",
       "version_major": 2,
       "version_minor": 0
      },
      "text/plain": [
       "Empresas0.zip:   0%|          | 0.00/240M [00:00<?, ?iB/s]"
      ]
     },
     "metadata": {},
     "output_type": "display_data"
    },
    {
     "data": {
      "application/vnd.jupyter.widget-view+json": {
       "model_id": "05ce492e996041d1a47d85f564cb5af6",
       "version_major": 2,
       "version_minor": 0
      },
      "text/plain": [
       "Empresas3.zip:   0%|          | 0.00/81.2M [00:00<?, ?iB/s]"
      ]
     },
     "metadata": {},
     "output_type": "display_data"
    },
    {
     "data": {
      "application/vnd.jupyter.widget-view+json": {
       "model_id": "fbf10bc2f49a44e1b0b6081613da68f4",
       "version_major": 2,
       "version_minor": 0
      },
      "text/plain": [
       "Empresas5.zip:   0%|          | 0.00/93.3M [00:00<?, ?iB/s]"
      ]
     },
     "metadata": {},
     "output_type": "display_data"
    },
    {
     "data": {
      "application/vnd.jupyter.widget-view+json": {
       "model_id": "20340daf3daf46a2b2ce1acddc1b3392",
       "version_major": 2,
       "version_minor": 0
      },
      "text/plain": [
       "Cnaes.zip:   0%|          | 0.00/21.6k [00:00<?, ?iB/s]"
      ]
     },
     "metadata": {},
     "output_type": "display_data"
    },
    {
     "data": {
      "application/vnd.jupyter.widget-view+json": {
       "model_id": "65b1d77fbce94438999d7c266d38e357",
       "version_major": 2,
       "version_minor": 0
      },
      "text/plain": [
       "Empresas2.zip:   0%|          | 0.00/75.3M [00:00<?, ?iB/s]"
      ]
     },
     "metadata": {},
     "output_type": "display_data"
    },
    {
     "data": {
      "application/vnd.jupyter.widget-view+json": {
       "model_id": "b739010524ee419dae3303bc82a03468",
       "version_major": 2,
       "version_minor": 0
      },
      "text/plain": [
       "Empresas6.zip:   0%|          | 0.00/90.5M [00:00<?, ?iB/s]"
      ]
     },
     "metadata": {},
     "output_type": "display_data"
    },
    {
     "data": {
      "application/vnd.jupyter.widget-view+json": {
       "model_id": "5f7ffdbbeda74de2aa444613a4160ab1",
       "version_major": 2,
       "version_minor": 0
      },
      "text/plain": [
       "Empresas7.zip:   0%|          | 0.00/95.2M [00:00<?, ?iB/s]"
      ]
     },
     "metadata": {},
     "output_type": "display_data"
    },
    {
     "data": {
      "application/vnd.jupyter.widget-view+json": {
       "model_id": "322b908e8a644e9aacb1417f613f4109",
       "version_major": 2,
       "version_minor": 0
      },
      "text/plain": [
       "Empresas4.zip:   0%|          | 0.00/86.3M [00:00<?, ?iB/s]"
      ]
     },
     "metadata": {},
     "output_type": "display_data"
    },
    {
     "data": {
      "application/vnd.jupyter.widget-view+json": {
       "model_id": "2d84719fb5dc4ed1baed684c4816bd47",
       "version_major": 2,
       "version_minor": 0
      },
      "text/plain": [
       "Empresas1.zip:   0%|          | 0.00/74.1M [00:00<?, ?iB/s]"
      ]
     },
     "metadata": {},
     "output_type": "display_data"
    },
    {
     "data": {
      "application/vnd.jupyter.widget-view+json": {
       "model_id": "01fdc6f0013f46b3a8ae46005ff1e232",
       "version_major": 2,
       "version_minor": 0
      },
      "text/plain": [
       "Empresas8.zip:   0%|          | 0.00/95.6M [00:00<?, ?iB/s]"
      ]
     },
     "metadata": {},
     "output_type": "display_data"
    },
    {
     "data": {
      "application/vnd.jupyter.widget-view+json": {
       "model_id": "12fd75e8f6b243ab9a2c33dda83d040d",
       "version_major": 2,
       "version_minor": 0
      },
      "text/plain": [
       "Empresas9.zip:   0%|          | 0.00/91.3M [00:00<?, ?iB/s]"
      ]
     },
     "metadata": {},
     "output_type": "display_data"
    },
    {
     "data": {
      "application/vnd.jupyter.widget-view+json": {
       "model_id": "5d747d6d226d4c31bd2226d586ebb352",
       "version_major": 2,
       "version_minor": 0
      },
      "text/plain": [
       "Estabelecimentos0.zip:   0%|          | 0.00/926M [00:00<?, ?iB/s]"
      ]
     },
     "metadata": {},
     "output_type": "display_data"
    },
    {
     "data": {
      "application/vnd.jupyter.widget-view+json": {
       "model_id": "2f9377ad992b46709838fd1b539f1a5e",
       "version_major": 2,
       "version_minor": 0
      },
      "text/plain": [
       "Estabelecimentos1.zip:   0%|          | 0.00/328M [00:00<?, ?iB/s]"
      ]
     },
     "metadata": {},
     "output_type": "display_data"
    },
    {
     "data": {
      "application/vnd.jupyter.widget-view+json": {
       "model_id": "7f00c530710044f7b7fdea9f4c8b170f",
       "version_major": 2,
       "version_minor": 0
      },
      "text/plain": [
       "Estabelecimentos2.zip:   0%|          | 0.00/329M [00:00<?, ?iB/s]"
      ]
     },
     "metadata": {},
     "output_type": "display_data"
    },
    {
     "data": {
      "application/vnd.jupyter.widget-view+json": {
       "model_id": "271710dba8a348b8ab6ac468ad97736f",
       "version_major": 2,
       "version_minor": 0
      },
      "text/plain": [
       "Estabelecimentos3.zip:   0%|          | 0.00/328M [00:00<?, ?iB/s]"
      ]
     },
     "metadata": {},
     "output_type": "display_data"
    },
    {
     "data": {
      "application/vnd.jupyter.widget-view+json": {
       "model_id": "c4f7abaf595a472788c39301de90084b",
       "version_major": 2,
       "version_minor": 0
      },
      "text/plain": [
       "Estabelecimentos4.zip:   0%|          | 0.00/330M [00:00<?, ?iB/s]"
      ]
     },
     "metadata": {},
     "output_type": "display_data"
    },
    {
     "data": {
      "application/vnd.jupyter.widget-view+json": {
       "model_id": "9eb51ca1d333498f8160bde3d9ac2bd3",
       "version_major": 2,
       "version_minor": 0
      },
      "text/plain": [
       "Estabelecimentos5.zip:   0%|          | 0.00/334M [00:00<?, ?iB/s]"
      ]
     },
     "metadata": {},
     "output_type": "display_data"
    },
    {
     "data": {
      "application/vnd.jupyter.widget-view+json": {
       "model_id": "99cbbb8c5afe414db1e295fd5c1b1a4c",
       "version_major": 2,
       "version_minor": 0
      },
      "text/plain": [
       "Estabelecimentos6.zip:   0%|          | 0.00/346M [00:00<?, ?iB/s]"
      ]
     },
     "metadata": {},
     "output_type": "display_data"
    },
    {
     "data": {
      "application/vnd.jupyter.widget-view+json": {
       "model_id": "8dc1f796e7ae4209ad040be16f207eb4",
       "version_major": 2,
       "version_minor": 0
      },
      "text/plain": [
       "Estabelecimentos7.zip:   0%|          | 0.00/339M [00:00<?, ?iB/s]"
      ]
     },
     "metadata": {},
     "output_type": "display_data"
    },
    {
     "data": {
      "application/vnd.jupyter.widget-view+json": {
       "model_id": "9a970fa6c63a4aa9a93b6ac434b61967",
       "version_major": 2,
       "version_minor": 0
      },
      "text/plain": [
       "Estabelecimentos8.zip:   0%|          | 0.00/328M [00:00<?, ?iB/s]"
      ]
     },
     "metadata": {},
     "output_type": "display_data"
    },
    {
     "data": {
      "application/vnd.jupyter.widget-view+json": {
       "model_id": "536d650738eb43bd837c62274c5811a7",
       "version_major": 2,
       "version_minor": 0
      },
      "text/plain": [
       "Estabelecimentos9.zip:   0%|          | 0.00/329M [00:00<?, ?iB/s]"
      ]
     },
     "metadata": {},
     "output_type": "display_data"
    },
    {
     "data": {
      "application/vnd.jupyter.widget-view+json": {
       "model_id": "c731ae4136b442d48580ca7d1db10545",
       "version_major": 2,
       "version_minor": 0
      },
      "text/plain": [
       "LAYOUT_DADOS_ABERTOS_CNPJ.pdf:   0%|          | 0.00/115k [00:00<?, ?iB/s]"
      ]
     },
     "metadata": {},
     "output_type": "display_data"
    },
    {
     "data": {
      "application/vnd.jupyter.widget-view+json": {
       "model_id": "6984522079d8476face50acb4464bdb8",
       "version_major": 2,
       "version_minor": 0
      },
      "text/plain": [
       "Motivos.zip:   0%|          | 0.00/1.11k [00:00<?, ?iB/s]"
      ]
     },
     "metadata": {},
     "output_type": "display_data"
    },
    {
     "data": {
      "application/vnd.jupyter.widget-view+json": {
       "model_id": "867b8feaebfe4aac8298d02f9dd66526",
       "version_major": 2,
       "version_minor": 0
      },
      "text/plain": [
       "Municipios.zip:   0%|          | 0.00/42.4k [00:00<?, ?iB/s]"
      ]
     },
     "metadata": {},
     "output_type": "display_data"
    },
    {
     "data": {
      "application/vnd.jupyter.widget-view+json": {
       "model_id": "cfd125bafe8540679824c83698d302fa",
       "version_major": 2,
       "version_minor": 0
      },
      "text/plain": [
       "Naturezas.zip:   0%|          | 0.00/1.49k [00:00<?, ?iB/s]"
      ]
     },
     "metadata": {},
     "output_type": "display_data"
    },
    {
     "data": {
      "application/vnd.jupyter.widget-view+json": {
       "model_id": "9ab8e3a85a0447a9b7273b8f7591fd33",
       "version_major": 2,
       "version_minor": 0
      },
      "text/plain": [
       "Paises.zip:   0%|          | 0.00/2.68k [00:00<?, ?iB/s]"
      ]
     },
     "metadata": {},
     "output_type": "display_data"
    },
    {
     "data": {
      "application/vnd.jupyter.widget-view+json": {
       "model_id": "67d031985d1a44f6ba78460d8ddfd346",
       "version_major": 2,
       "version_minor": 0
      },
      "text/plain": [
       "Qualificacoes.zip:   0%|          | 0.00/980 [00:00<?, ?iB/s]"
      ]
     },
     "metadata": {},
     "output_type": "display_data"
    },
    {
     "data": {
      "application/vnd.jupyter.widget-view+json": {
       "model_id": "4c7cf126f2a84f09980e909f7bca000b",
       "version_major": 2,
       "version_minor": 0
      },
      "text/plain": [
       "Simples.zip:   0%|          | 0.00/186M [00:00<?, ?iB/s]"
      ]
     },
     "metadata": {},
     "output_type": "display_data"
    },
    {
     "data": {
      "application/vnd.jupyter.widget-view+json": {
       "model_id": "66c43716c43a41fb9f55caa46b8ccfd1",
       "version_major": 2,
       "version_minor": 0
      },
      "text/plain": [
       "Socios0.zip:   0%|          | 0.00/102M [00:00<?, ?iB/s]"
      ]
     },
     "metadata": {},
     "output_type": "display_data"
    },
    {
     "data": {
      "application/vnd.jupyter.widget-view+json": {
       "model_id": "965bed1a12bf40ac9f62f2688e382b4f",
       "version_major": 2,
       "version_minor": 0
      },
      "text/plain": [
       "Socios1.zip:   0%|          | 0.00/47.0M [00:00<?, ?iB/s]"
      ]
     },
     "metadata": {},
     "output_type": "display_data"
    },
    {
     "data": {
      "application/vnd.jupyter.widget-view+json": {
       "model_id": "db763cd254eb41179fb2f0e1136f40f1",
       "version_major": 2,
       "version_minor": 0
      },
      "text/plain": [
       "Socios2.zip:   0%|          | 0.00/46.9M [00:00<?, ?iB/s]"
      ]
     },
     "metadata": {},
     "output_type": "display_data"
    },
    {
     "data": {
      "application/vnd.jupyter.widget-view+json": {
       "model_id": "694253378d8040abbe333eff803d1883",
       "version_major": 2,
       "version_minor": 0
      },
      "text/plain": [
       "Socios3.zip:   0%|          | 0.00/46.8M [00:00<?, ?iB/s]"
      ]
     },
     "metadata": {},
     "output_type": "display_data"
    },
    {
     "data": {
      "application/vnd.jupyter.widget-view+json": {
       "model_id": "7808303cfab7476cb158c7e967eee376",
       "version_major": 2,
       "version_minor": 0
      },
      "text/plain": [
       "Socios4.zip:   0%|          | 0.00/46.9M [00:00<?, ?iB/s]"
      ]
     },
     "metadata": {},
     "output_type": "display_data"
    },
    {
     "data": {
      "application/vnd.jupyter.widget-view+json": {
       "model_id": "0712fe04f462478e9559bcdd02c70a15",
       "version_major": 2,
       "version_minor": 0
      },
      "text/plain": [
       "Socios5.zip:   0%|          | 0.00/46.9M [00:00<?, ?iB/s]"
      ]
     },
     "metadata": {},
     "output_type": "display_data"
    },
    {
     "data": {
      "application/vnd.jupyter.widget-view+json": {
       "model_id": "e9fac95f4b6142d8b6f05be875c32d5a",
       "version_major": 2,
       "version_minor": 0
      },
      "text/plain": [
       "Socios6.zip:   0%|          | 0.00/46.8M [00:00<?, ?iB/s]"
      ]
     },
     "metadata": {},
     "output_type": "display_data"
    },
    {
     "data": {
      "application/vnd.jupyter.widget-view+json": {
       "model_id": "be4858eb8aef43f9b0c6b2ebc7c4e00e",
       "version_major": 2,
       "version_minor": 0
      },
      "text/plain": [
       "Socios7.zip:   0%|          | 0.00/46.8M [00:00<?, ?iB/s]"
      ]
     },
     "metadata": {},
     "output_type": "display_data"
    },
    {
     "data": {
      "application/vnd.jupyter.widget-view+json": {
       "model_id": "ebb691b9988c49589250e82070964908",
       "version_major": 2,
       "version_minor": 0
      },
      "text/plain": [
       "Socios8.zip:   0%|          | 0.00/46.8M [00:00<?, ?iB/s]"
      ]
     },
     "metadata": {},
     "output_type": "display_data"
    },
    {
     "data": {
      "application/vnd.jupyter.widget-view+json": {
       "model_id": "3f782bea4a2846a7bb458d328e16e3b5",
       "version_major": 2,
       "version_minor": 0
      },
      "text/plain": [
       "Socios9.zip:   0%|          | 0.00/46.8M [00:00<?, ?iB/s]"
      ]
     },
     "metadata": {},
     "output_type": "display_data"
    }
   ],
   "source": [
    "res = mapp(downloader,urllist) if input(\"Tem certeza? S/N\").upper() == \"S\" else \"Cancelado\""
   ]
  },
  {
   "cell_type": "code",
   "execution_count": 43,
   "metadata": {},
   "outputs": [],
   "source": [
    "# se der erro em algum basta usar o downloader\n",
    "# downloader(urllist[0])"
   ]
  },
  {
   "cell_type": "code",
   "execution_count": 14,
   "metadata": {},
   "outputs": [
    {
     "data": {
      "text/plain": [
       "[['200', 'https://dadosabertos.rfb.gov.br/CNPJ/Paises.zip'],\n",
       " ['200', 'https://dadosabertos.rfb.gov.br/CNPJ/Municipios.zip'],\n",
       " ['200', 'https://dadosabertos.rfb.gov.br/CNPJ/Naturezas.zip'],\n",
       " ['200', 'https://dadosabertos.rfb.gov.br/CNPJ/Estabelecimentos4.zip'],\n",
       " ['200', 'https://dadosabertos.rfb.gov.br/CNPJ/Socios7.zip'],\n",
       " ['200', 'https://dadosabertos.rfb.gov.br/CNPJ/Empresas0.zip'],\n",
       " ['200', 'https://dadosabertos.rfb.gov.br/CNPJ/Empresas1.zip'],\n",
       " ['200', 'https://dadosabertos.rfb.gov.br/CNPJ/Socios1.zip'],\n",
       " ['200', 'https://dadosabertos.rfb.gov.br/CNPJ/Estabelecimentos7.zip'],\n",
       " ['200', 'https://dadosabertos.rfb.gov.br/CNPJ/Estabelecimentos3.zip'],\n",
       " ['200', 'https://dadosabertos.rfb.gov.br/CNPJ/Estabelecimentos6.zip'],\n",
       " ['200', 'https://dadosabertos.rfb.gov.br/CNPJ/Empresas6.zip'],\n",
       " ['200', 'https://dadosabertos.rfb.gov.br/CNPJ/Socios8.zip'],\n",
       " ['200', 'https://dadosabertos.rfb.gov.br/CNPJ/Socios0.zip'],\n",
       " ['200', 'https://dadosabertos.rfb.gov.br/CNPJ/Estabelecimentos1.zip'],\n",
       " ['200', 'https://dadosabertos.rfb.gov.br/CNPJ/Socios9.zip'],\n",
       " ['200', 'https://dadosabertos.rfb.gov.br/CNPJ/Cnaes.zip'],\n",
       " ['200', 'https://dadosabertos.rfb.gov.br/CNPJ/Simples.zip'],\n",
       " ['200', 'https://dadosabertos.rfb.gov.br/CNPJ/Empresas3.zip'],\n",
       " ['200', 'https://dadosabertos.rfb.gov.br/CNPJ/Socios3.zip'],\n",
       " ['200', 'https://dadosabertos.rfb.gov.br/CNPJ/Estabelecimentos9.zip'],\n",
       " ['200', 'https://dadosabertos.rfb.gov.br/CNPJ/Estabelecimentos0.zip'],\n",
       " ['200', 'https://dadosabertos.rfb.gov.br/CNPJ/Empresas8.zip'],\n",
       " ['200', 'https://dadosabertos.rfb.gov.br/CNPJ/Socios6.zip'],\n",
       " ['200', 'https://dadosabertos.rfb.gov.br/CNPJ/Empresas9.zip'],\n",
       " ['200', 'https://dadosabertos.rfb.gov.br/CNPJ/Socios4.zip'],\n",
       " ['200', 'https://dadosabertos.rfb.gov.br/CNPJ/Qualificacoes.zip'],\n",
       " ['200', 'https://dadosabertos.rfb.gov.br/CNPJ/Socios5.zip'],\n",
       " ['200', 'https://dadosabertos.rfb.gov.br/CNPJ/Empresas7.zip'],\n",
       " ['200', 'https://dadosabertos.rfb.gov.br/CNPJ/Motivos.zip'],\n",
       " ['200', 'https://dadosabertos.rfb.gov.br/CNPJ/Empresas2.zip'],\n",
       " ['200', 'https://dadosabertos.rfb.gov.br/CNPJ/LAYOUT_DADOS_ABERTOS_CNPJ.pdf'],\n",
       " ['200', 'https://dadosabertos.rfb.gov.br/CNPJ/Empresas5.zip'],\n",
       " ['200', 'https://dadosabertos.rfb.gov.br/CNPJ/Estabelecimentos5.zip'],\n",
       " ['200', 'https://dadosabertos.rfb.gov.br/CNPJ/Estabelecimentos2.zip'],\n",
       " ['200', 'https://dadosabertos.rfb.gov.br/CNPJ/Socios2.zip'],\n",
       " ['200', 'https://dadosabertos.rfb.gov.br/CNPJ/Estabelecimentos8.zip'],\n",
       " ['200', 'https://dadosabertos.rfb.gov.br/CNPJ/Empresas4.zip']]"
      ]
     },
     "execution_count": 14,
     "metadata": {},
     "output_type": "execute_result"
    }
   ],
   "source": [
    "res"
   ]
  },
  {
   "cell_type": "markdown",
   "metadata": {
    "tags": []
   },
   "source": [
    "# Upload"
   ]
  },
  {
   "cell_type": "markdown",
   "metadata": {
    "tags": []
   },
   "source": [
    "## Funções"
   ]
  },
  {
   "cell_type": "code",
   "execution_count": 15,
   "metadata": {},
   "outputs": [],
   "source": [
    "dirlist= os.listdir(dirpath)\n",
    "engine = sa.create_engine(uri_sqlite)\n",
    "engine.connect().close() #test"
   ]
  },
  {
   "cell_type": "code",
   "execution_count": 21,
   "metadata": {},
   "outputs": [],
   "source": [
    "def upload(local, table, dcol):\n",
    "    colunas=list(dcol.keys())\n",
    "    with engine.connect() as c:\n",
    "        c.execute(sa.text(\"DROP TABLE IF EXISTS \\\"\" + table + \"\\\"\"))\n",
    "        block='default' if local.find('.zip') < 0 else None\n",
    "        df = dd.read_csv(local, header=None, encoding='latin1', sep=\";\", decimal=\",\", names=colunas, dtype=dcol, blocksize=block)\n",
    "    for n in trange(df.npartitions, desc=table):\n",
    "        df.get_partition(n).compute().to_sql( name=table, con=engine, if_exists= 'append', chunksize=1000, index=False)\n",
    "    with engine.connect() as c:\n",
    "         c.execute(sa.text(\"CREATE INDEX IF NOT EXISTS idx_\" + table + \" ON \\\"\" + table + \"\\\" (\\\"\" + df.columns[0] + \"\\\")\"))"
   ]
  },
  {
   "cell_type": "code",
   "execution_count": 22,
   "metadata": {},
   "outputs": [],
   "source": [
    "def extract(flist,filtro):\n",
    "    filenames=[]\n",
    "    files=list(filter(lambda x: not x.find(filtro), dirlist))\n",
    "    for filename in files:\n",
    "            zip=zipfile.ZipFile(dirpath+filename)\n",
    "            filenames.append(dirpath+zip.filelist[0].filename)\n",
    "            zip.extractall(path=dirpath)\n",
    "    return filenames\n",
    "\n",
    "def remove(flist):\n",
    "    for f in flist:\n",
    "            os.remove(f)"
   ]
  },
  {
   "cell_type": "markdown",
   "metadata": {
    "tags": []
   },
   "source": [
    "## Começo do Upload"
   ]
  },
  {
   "cell_type": "code",
   "execution_count": 23,
   "metadata": {},
   "outputs": [
    {
     "data": {
      "application/vnd.jupyter.widget-view+json": {
       "model_id": "d5ad92562cfa45fc90191578fec85a82",
       "version_major": 2,
       "version_minor": 0
      },
      "text/plain": [
       "MUNICIPIO:   0%|          | 0/1 [00:00<?, ?it/s]"
      ]
     },
     "metadata": {},
     "output_type": "display_data"
    }
   ],
   "source": [
    "local=dirpath+'Municipios.zip'\n",
    "dcol = {\"CD_MUNICIPIO\": \"int\",\"MUNICIPIO\":\"str\"}\n",
    "table='MUNICIPIO'\n",
    "upload(local, table, dcol)"
   ]
  },
  {
   "cell_type": "code",
   "execution_count": 24,
   "metadata": {},
   "outputs": [
    {
     "data": {
      "application/vnd.jupyter.widget-view+json": {
       "model_id": "c9028cfa743942248ecd0110315c0cb6",
       "version_major": 2,
       "version_minor": 0
      },
      "text/plain": [
       "CNAE:   0%|          | 0/1 [00:00<?, ?it/s]"
      ]
     },
     "metadata": {},
     "output_type": "display_data"
    }
   ],
   "source": [
    "local=dirpath+'Cnaes.zip'\n",
    "dcol = {\"CNAE\": \"int\",\"NM_CNAE\":\"str\"}\n",
    "table='CNAE'\n",
    "upload(local, table, dcol)"
   ]
  },
  {
   "cell_type": "code",
   "execution_count": 25,
   "metadata": {},
   "outputs": [
    {
     "data": {
      "application/vnd.jupyter.widget-view+json": {
       "model_id": "348189a37e0b4c0988a51c2f509ef82e",
       "version_major": 2,
       "version_minor": 0
      },
      "text/plain": [
       "PAIS:   0%|          | 0/1 [00:00<?, ?it/s]"
      ]
     },
     "metadata": {},
     "output_type": "display_data"
    }
   ],
   "source": [
    "local=dirpath+'Paises.zip'\n",
    "dcol = {\"CD_PAIS\": \"int\",\"PAIS\":\"str\"}\n",
    "table='PAIS'\n",
    "upload(local, table, dcol)"
   ]
  },
  {
   "cell_type": "code",
   "execution_count": 26,
   "metadata": {},
   "outputs": [
    {
     "data": {
      "application/vnd.jupyter.widget-view+json": {
       "model_id": "a64ed74a384442a596c5470bf7638b55",
       "version_major": 2,
       "version_minor": 0
      },
      "text/plain": [
       "NATJU:   0%|          | 0/1 [00:00<?, ?it/s]"
      ]
     },
     "metadata": {},
     "output_type": "display_data"
    }
   ],
   "source": [
    "local=dirpath+'Naturezas.zip'\n",
    "dcol={\"CD_NAT_JURIDICA\": \"int\",\"NAT_JURIDICA\":\"str\"}\n",
    "table='NATJU'\n",
    "upload(local, table, dcol)"
   ]
  },
  {
   "cell_type": "code",
   "execution_count": 27,
   "metadata": {},
   "outputs": [
    {
     "data": {
      "application/vnd.jupyter.widget-view+json": {
       "model_id": "a56e09d43e5f4fffadad7358bb3f79cb",
       "version_major": 2,
       "version_minor": 0
      },
      "text/plain": [
       "MOTIVOSIT:   0%|          | 0/1 [00:00<?, ?it/s]"
      ]
     },
     "metadata": {},
     "output_type": "display_data"
    }
   ],
   "source": [
    "local=dirpath+'Motivos.zip'\n",
    "dcols={\"CD_MOTIVO_SIT_CADASTRO\":\"int\",\"MOTIVO_SIT_CADASTRO\":\"str\"}\n",
    "table='MOTIVOSIT'\n",
    "upload(local, table, dcol)"
   ]
  },
  {
   "cell_type": "code",
   "execution_count": 28,
   "metadata": {},
   "outputs": [
    {
     "data": {
      "application/vnd.jupyter.widget-view+json": {
       "model_id": "0dd83f035caf4486ba872646c2c2b47e",
       "version_major": 2,
       "version_minor": 0
      },
      "text/plain": [
       "QUALS:   0%|          | 0/1 [00:00<?, ?it/s]"
      ]
     },
     "metadata": {},
     "output_type": "display_data"
    }
   ],
   "source": [
    "local=dirpath+'Qualificacoes.zip'\n",
    "dcol={\"CD_QUALS\":\"int\",\"NM_QUALS\":\"str\"}\n",
    "table='QUALS'\n",
    "upload(local, table, dcol)"
   ]
  },
  {
   "cell_type": "code",
   "execution_count": 29,
   "metadata": {},
   "outputs": [
    {
     "data": {
      "application/vnd.jupyter.widget-view+json": {
       "model_id": "fff78b15e4614fdb9b31599997a92c1d",
       "version_major": 2,
       "version_minor": 0
      },
      "text/plain": [
       "SIMPLES:   0%|          | 0/34 [00:00<?, ?it/s]"
      ]
     },
     "metadata": {},
     "output_type": "display_data"
    }
   ],
   "source": [
    "lista= extract(dirlist,\"Simples\")\n",
    "#simples (cerca de 9min)\n",
    "local=dirpath+'*.SIMPLES.*'\n",
    "dcol={\"CNPJ_BASICO\":\"int\",\"OP_SIMPLES\":\"str\",\"DT_OP_SIMPLES\":\"int\",\"DT_EXC_SIMPLES\":\"int\",\"OP_MEI\":\"str\",\"DT_OP_MEI\":\"int\",\"DT_EXC_MEI\":\"int\"}\n",
    "table='SIMPLES'\n",
    "upload(local, table, dcol)\n",
    "remove(lista)"
   ]
  },
  {
   "cell_type": "code",
   "execution_count": 30,
   "metadata": {},
   "outputs": [
    {
     "data": {
      "application/vnd.jupyter.widget-view+json": {
       "model_id": "609d865debea4be8a4f1748615d517b5",
       "version_major": 2,
       "version_minor": 0
      },
      "text/plain": [
       "EMPRESA:   0%|          | 0/59 [00:00<?, ?it/s]"
      ]
     },
     "metadata": {},
     "output_type": "display_data"
    },
    {
     "name": "stdout",
     "output_type": "stream",
     "text": [
      "CPU times: total: 6min 4s\n",
      "Wall time: 10min 21s\n"
     ]
    }
   ],
   "source": [
    "%%time\n",
    "lista= extract(dirlist,\"Empre\")\n",
    "#empresa\n",
    "dcol = {\"CNPJ_BASICO\":\"int\", \"RAZAO_SOCIAL\":\"str\", \"NAT_JURIDICA\":\"int\", \"QUAL_RESP\":\"int\", \"CAPITAL_SOCIAL\":\"float\",\n",
    "        \"PORTE_EMPRESA\":\"Int64\", \"ENTE_FED_RESP\":\"str\"}\n",
    "local=dirpath+'*.EMPRECSV'\n",
    "table='EMPRESA'\n",
    "upload(local, table, dcol)\n",
    "remove(lista)"
   ]
  },
  {
   "cell_type": "code",
   "execution_count": 31,
   "metadata": {},
   "outputs": [
    {
     "data": {
      "application/vnd.jupyter.widget-view+json": {
       "model_id": "6ae3a0055df44c849681ef38663e5fb1",
       "version_major": 2,
       "version_minor": 0
      },
      "text/plain": [
       "SOCIO:   0%|          | 0/33 [00:00<?, ?it/s]"
      ]
     },
     "metadata": {},
     "output_type": "display_data"
    }
   ],
   "source": [
    "lista= extract(dirlist,\"Socios\")\n",
    "#socios\n",
    "dcol={\"CNPJ_BASICO\":\"int\",\"ID_TIPO_SOCIO\":\"int\",\"NOME_OU_RAZAO_SOCIAL\":\"str\",\"CNPJ_CPF\":\"str\",\"QUALIF_SOCIO\":\"int\",\n",
    "         \"DT_ENTRADA\":\"int\",\"CD_PAIS\":\"Int64\",\"REPR_LEGAL\":\"str\",\"NM_REPR\":\"str\",\"CD_QUALIF_REPR\":\"int\",\"FAIXA_ETARIA\":\"int\"}\n",
    "local=dirpath+'*.SOCIOCSV'\n",
    "table='SOCIO'\n",
    "upload(local, table, dcol)\n",
    "remove(lista)"
   ]
  },
  {
   "cell_type": "code",
   "execution_count": 32,
   "metadata": {},
   "outputs": [
    {
     "data": {
      "application/vnd.jupyter.widget-view+json": {
       "model_id": "53c53cfd184743a4895d1997920549d9",
       "version_major": 2,
       "version_minor": 0
      },
      "text/plain": [
       "ESTABELE:   0%|          | 0/198 [00:00<?, ?it/s]"
      ]
     },
     "metadata": {},
     "output_type": "display_data"
    }
   ],
   "source": [
    "lista= extract(dirlist,\"Estabelecimentos\")\n",
    "#estabelecimentos\n",
    "dcol={\"CNPJ_BASICO\":\"int\", \"CNPJ_ORDEM\":\"int\", \"CNPJ_DV\":\"int\", \"CD_MATRIZ_FILIAL\":\"int\", \"NM_FANTASIA\":\"str\",\n",
    "         \"CD_SIT_CADASTRO\":\"int\", \"DT_SIT_CADASTRO\":\"int\",\"MOTIVO_SIT_CADASTRO\":\"int\",\"NM_CIDADE_EXT\":\"str\", \"CD_PAIS\":\"Int64\",\n",
    "         \"DT_INI\":\"int\", \"CNAE_PRINCIPAL\":\"int\",\"CNAE_SECUNDARIO\":\"str\",\n",
    "         \"TIP_LOGRADOURO\":\"str\",\"LOGRADOURO\":\"str\",\"NUMERO\":\"str\",\"COMPLEMENTO\":\"str\",\"BAIRRO\":\"str\",\"CEP\":\"str\",\"UF\":\"str\",\"MUNICIPIO\":\"int\",\n",
    "         \"DDD_1\":\"str\",\"TEL_1\":\"str\",\"DDD_2\":\"str\",\"TEL_2\":\"str\",\"DDD_FAX\":\"str\",\"FAX\":\"str\",\"EMAIL\":\"str\",\"SIT_ESP\":\"str\",\"DT_SIT_ESP\":\"Int64\"}\n",
    "local=dirpath+'*.ESTABELE'\n",
    "table='ESTABELE'\n",
    "upload(local, table, dcol)\n",
    "remove(lista)"
   ]
  },
  {
   "cell_type": "code",
   "execution_count": 33,
   "metadata": {},
   "outputs": [],
   "source": [
    "remove([dirpath+f for f in filter(lambda x: x.find(\".zip\") > 0,dirlist)]) if input(\"Tem certeza? S/N\").upper() == \"S\" else \"Cancelado\""
   ]
  },
  {
   "cell_type": "code",
   "execution_count": 34,
   "metadata": {},
   "outputs": [],
   "source": [
    "# Criar uma view para grafo societario\n",
    "query = '''\n",
    "CREATE view if not exists grapho as\n",
    "SELECT\n",
    "\tSUBSTR(\"0000000\" || CNPJ_BASICO,-8) as A,\n",
    "\t(case\n",
    "\t\twhen CNPJ_CPF LIKE '***%' then (COALESCE(NOME_OU_RAZAO_SOCIAL,\"\") || \" - \" || CNPJ_CPF)\n",
    "\t\twhen CNPJ_CPF is null then NOME_OU_RAZAO_SOCIAL\n",
    "\t\telse SUBSTR(CNPJ_CPF, 1, 8) end) as B\n",
    "FROM SOCIO\n",
    "union all\n",
    "SELECT\n",
    "\tSUBSTR(\"0000000\" || CNPJ_BASICO,-8) as A,\n",
    "\t(case\n",
    "\t\twhen REPR_LEGAL LIKE '***%' then (NM_REPR || \" - \" || REPR_LEGAL)\n",
    "\t\telse NM_REPR end) as B\n",
    "FROM SOCIO\n",
    "WHERE NM_REPR is not null;\n",
    "'''\n",
    "engine.connect().execute(sa.text(query)).close()"
   ]
  },
  {
   "cell_type": "markdown",
   "metadata": {
    "jp-MarkdownHeadingCollapsed": true,
    "tags": []
   },
   "source": [
    "## Testes"
   ]
  },
  {
   "cell_type": "code",
   "execution_count": null,
   "metadata": {},
   "outputs": [],
   "source": []
  }
 ],
 "metadata": {
  "kernelspec": {
   "display_name": "Python 3 (ipykernel)",
   "language": "python",
   "name": "python3"
  },
  "language_info": {
   "codemirror_mode": {
    "name": "ipython",
    "version": 3
   },
   "file_extension": ".py",
   "mimetype": "text/x-python",
   "name": "python",
   "nbconvert_exporter": "python",
   "pygments_lexer": "ipython3",
   "version": "3.10.10"
  },
  "vscode": {
   "interpreter": {
    "hash": "a8df82f0ff7dbbdeab208b32e1dbd0468ab7b7612b95c95cc2c310a142438cff"
   }
  }
 },
 "nbformat": 4,
 "nbformat_minor": 4
}
