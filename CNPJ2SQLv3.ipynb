{
 "cells": [
  {
   "cell_type": "markdown",
   "metadata": {},
   "source": [
    "Autor: Jurandi A. França  \n",
    "email: jurandi82@gmail.com  \n",
    "Versão: 3.20240907  "
   ]
  },
  {
   "cell_type": "markdown",
   "metadata": {},
   "source": [
    "# Imports"
   ]
  },
  {
   "cell_type": "code",
   "execution_count": 1,
   "metadata": {},
   "outputs": [],
   "source": [
    "import requests\n",
    "import re\n",
    "from concurrent.futures import ThreadPoolExecutor, as_completed\n",
    "from tqdm.notebook import tqdm, trange\n",
    "from bs4 import BeautifulSoup as bs\n",
    "import os\n",
    "import sqlalchemy as sa\n",
    "import zipfile\n",
    "import dask.dataframe as dd\n",
    "import pandas as pd"
   ]
  },
  {
   "cell_type": "markdown",
   "metadata": {},
   "source": [
    "# Configuração"
   ]
  },
  {
   "cell_type": "code",
   "execution_count": null,
   "metadata": {},
   "outputs": [],
   "source": [
    "# Link de download\n",
    "urlbase = \"https://dadosabertos.rfb.gov.br/CNPJ/dados_abertos_cnpj/2024-08/\""
   ]
  },
  {
   "cell_type": "markdown",
   "metadata": {
    "tags": []
   },
   "source": [
    "# Download"
   ]
  },
  {
   "cell_type": "code",
   "execution_count": 2,
   "metadata": {},
   "outputs": [],
   "source": [
    "# Pega data do arquivo\n",
    "soup = bs(requests.get(urlbase).content)\n",
    "dt = pd.read_html(str(soup.table))[0]['Last modified'].astype('datetime64').max().isoformat()[:10]\n",
    "uri_sqlite ='sqlite:///base_receita_' + dt + '.db'\n",
    "\n",
    "# Cria a pasta de dowloads se ela não existir\n",
    "dirpath= \"downloads/\"\n",
    "if not os.path.exists(dirpath):\n",
    "    os.makedirs(dirpath)"
   ]
  },
  {
   "cell_type": "code",
   "execution_count": 3,
   "metadata": {},
   "outputs": [],
   "source": [
    "# Função para chamadas multiplas\n",
    "def mapp(fn,data, workers=12):\n",
    "  tasks=[]\n",
    "  out = []\n",
    "  \n",
    "  with ThreadPoolExecutor(max_workers=workers) as tex:\n",
    "    tasks=[tex.submit(fn,i) for i in data]\n",
    "  \n",
    "  for task in as_completed(tasks):\n",
    "    out.append(task.result())\n",
    "  \n",
    "  return out"
   ]
  },
  {
   "cell_type": "code",
   "execution_count": 4,
   "metadata": {},
   "outputs": [],
   "source": [
    "def downloader(url):\n",
    "    try:\n",
    "        r = requests.get(url, stream=True)\n",
    "        total = int(r.headers.get('content-length', 0))\n",
    "    \n",
    "        if \"Content-Disposition\" in r.headers.keys():\n",
    "            fname = re.findall(\"filename=(.+)\",\n",
    "                        r.headers[\"Content-Disposition\"])[0]\n",
    "    \n",
    "        else:\n",
    "            fname = url.split(\"/\")[-1]\n",
    "    \n",
    "        with open(dirpath+fname, 'wb') as file, tqdm(\n",
    "        desc=fname, total=total, unit='iB', unit_scale=True, unit_divisor=1024) as bar:\n",
    "            for data in r.iter_content(chunk_size=1024):\n",
    "                size = file.write(data)\n",
    "                bar.update(size)\n",
    "    \n",
    "    except Exception as inst:\n",
    "        print(inst)    \n",
    "    \n",
    "    finally:\n",
    "        return [str(r.status_code), url]\n",
    "\n",
    "confere = lambda fn : fn if input(\"Tem certeza? S/N\").upper() == \"S\" else \"Cancelado\"\n",
    "baixar = lambda l : confere( mapp(downloader, l) )"
   ]
  },
  {
   "cell_type": "code",
   "execution_count": 5,
   "metadata": {},
   "outputs": [],
   "source": [
    "filelist = filter( lambda s: s.find(\".\")>0,\n",
    "                        [tag.attrs['href'] for tag in soup.find_all('a')])\n",
    "urllist = [ (urlbase + f) for f in filelist]"
   ]
  },
  {
   "cell_type": "code",
   "execution_count": null,
   "metadata": {},
   "outputs": [],
   "source": [
    "res = baixar(urllist)"
   ]
  },
  {
   "cell_type": "code",
   "execution_count": 10,
   "metadata": {},
   "outputs": [],
   "source": [
    "# Checa se deu erro e tenta novamente\n",
    "erros = [u[1] for u in filter(lambda x: x[0]!='200', res)]\n",
    "res = res if len(erros) == 0 else baixar(erros)"
   ]
  },
  {
   "cell_type": "markdown",
   "metadata": {
    "tags": []
   },
   "source": [
    "# Upload"
   ]
  },
  {
   "cell_type": "markdown",
   "metadata": {
    "tags": []
   },
   "source": [
    "## Funções"
   ]
  },
  {
   "cell_type": "code",
   "execution_count": null,
   "metadata": {},
   "outputs": [],
   "source": [
    "dirlist= os.listdir(dirpath)\n",
    "engine = sa.create_engine(uri_sqlite)\n",
    "\n",
    "sql_exec = lambda q : engine.connect().execute(sa.text(q)).close()"
   ]
  },
  {
   "cell_type": "code",
   "execution_count": 12,
   "metadata": {},
   "outputs": [],
   "source": [
    "def upload(local, table, dcol):\n",
    "    colunas=list(dcol.keys())\n",
    "    \n",
    "    sql_exec(\n",
    "        \"DROP TABLE IF EXISTS \\\"\" + table + \"\\\"\"\n",
    "        )\n",
    "        \n",
    "    block='default' if local.find('.zip') < 0 else None\n",
    "    df = dd.read_csv(local, header=None, encoding='latin1', sep=\";\",\n",
    "                    decimal=\",\", names=colunas, dtype=dcol, blocksize=block)\n",
    "    \n",
    "    for n in trange(df.npartitions, desc=table):\n",
    "        df.get_partition(n).compute().to_sql( name=table, con=engine,\n",
    "                        if_exists= 'append', chunksize=1000, index=False)\n",
    "    \n",
    "    sql_exec(\n",
    "        \"CREATE INDEX IF NOT EXISTS idx_\" + table + \" ON \\\"\" + table + \"\\\" (\\\"\" + df.columns[0] + \"\\\")\"\n",
    "        )"
   ]
  },
  {
   "cell_type": "code",
   "execution_count": 13,
   "metadata": {},
   "outputs": [],
   "source": [
    "def extract(flist,filtro):\n",
    "    filenames=[]\n",
    "    files=list(filter(lambda x: not x.find(filtro), dirlist))\n",
    "    \n",
    "    for filename in files:\n",
    "            zip=zipfile.ZipFile(dirpath+filename)\n",
    "            filenames.append(dirpath+zip.filelist[0].filename)\n",
    "            zip.extractall(path=dirpath)\n",
    "    \n",
    "    return filenames\n",
    "\n",
    "def remove(flist):\n",
    "    for f in flist:\n",
    "        os.remove(f)"
   ]
  },
  {
   "cell_type": "markdown",
   "metadata": {
    "tags": []
   },
   "source": [
    "## Começo do Upload"
   ]
  },
  {
   "cell_type": "code",
   "execution_count": null,
   "metadata": {},
   "outputs": [],
   "source": [
    "local=dirpath+'Municipios.zip'\n",
    "dcol = {\"CD_MUNICIPIO\": \"int\",\"MUNICIPIO\":\"str\"}\n",
    "table='MUNICIPIO'\n",
    "upload(local, table, dcol)"
   ]
  },
  {
   "cell_type": "code",
   "execution_count": null,
   "metadata": {},
   "outputs": [],
   "source": [
    "local=dirpath+'Cnaes.zip'\n",
    "dcol = {\"CNAE\": \"int\",\"NM_CNAE\":\"str\"}\n",
    "table='CNAE'\n",
    "upload(local, table, dcol)"
   ]
  },
  {
   "cell_type": "code",
   "execution_count": null,
   "metadata": {},
   "outputs": [],
   "source": [
    "local=dirpath+'Paises.zip'\n",
    "dcol = {\"CD_PAIS\": \"int\",\"PAIS\":\"str\"}\n",
    "table='PAIS'\n",
    "upload(local, table, dcol)"
   ]
  },
  {
   "cell_type": "code",
   "execution_count": null,
   "metadata": {},
   "outputs": [],
   "source": [
    "local=dirpath+'Naturezas.zip'\n",
    "dcol={\"CD_NAT_JURIDICA\": \"int\",\"NAT_JURIDICA\":\"str\"}\n",
    "table='NATJU'\n",
    "upload(local, table, dcol)"
   ]
  },
  {
   "cell_type": "code",
   "execution_count": null,
   "metadata": {},
   "outputs": [],
   "source": [
    "local=dirpath+'Motivos.zip'\n",
    "dcol={\"CD_MOTIVO_SIT_CADASTRO\":\"int\",\"MOTIVO_SIT_CADASTRO\":\"str\"}\n",
    "table='MOTIVOSIT'\n",
    "upload(local, table, dcol)"
   ]
  },
  {
   "cell_type": "code",
   "execution_count": null,
   "metadata": {},
   "outputs": [],
   "source": [
    "local=dirpath+'Qualificacoes.zip'\n",
    "dcol={\"CD_QUALS\":\"int\",\"NM_QUALS\":\"str\"}\n",
    "table='QUALS'\n",
    "upload(local, table, dcol)"
   ]
  },
  {
   "cell_type": "code",
   "execution_count": null,
   "metadata": {},
   "outputs": [],
   "source": [
    "lista= extract(dirlist,\"Simples\")\n",
    "\n",
    "local=dirpath+'*.SIMPLES.*'\n",
    "dcol={\n",
    "    \"CNPJ_BASICO\":\"int\",\n",
    "    \"OP_SIMPLES\":\"str\",\n",
    "    \"DT_OP_SIMPLES\":\"int\",\n",
    "    \"DT_EXC_SIMPLES\":\"int\",\n",
    "    \"OP_MEI\":\"str\",\n",
    "    \"DT_OP_MEI\":\"int\",\n",
    "    \"DT_EXC_MEI\":\"int\"\n",
    "    }\n",
    "table='SIMPLES'\n",
    "upload(local, table, dcol)\n",
    "\n",
    "remove(lista)"
   ]
  },
  {
   "cell_type": "code",
   "execution_count": null,
   "metadata": {},
   "outputs": [],
   "source": [
    "lista= extract(dirlist,\"Empre\")\n",
    "\n",
    "local=dirpath+'*.EMPRECSV'\n",
    "dcol = {\n",
    "    \"CNPJ_BASICO\":\"int\",\n",
    "    \"RAZAO_SOCIAL\":\"str\",\n",
    "    \"NAT_JURIDICA\":\"int\",\n",
    "    \"QUAL_RESP\":\"int\",\n",
    "    \"CAPITAL_SOCIAL\":\"float\",\n",
    "    \"PORTE_EMPRESA\":\"Int64\",\n",
    "    \"ENTE_FED_RESP\":\"str\"\n",
    "    }\n",
    "table='EMPRESA'\n",
    "upload(local, table, dcol)\n",
    "\n",
    "remove(lista)"
   ]
  },
  {
   "cell_type": "code",
   "execution_count": null,
   "metadata": {},
   "outputs": [],
   "source": [
    "lista= extract(dirlist,\"Socios\")\n",
    "\n",
    "local=dirpath+'*.SOCIOCSV'\n",
    "dcol={\n",
    "    \"CNPJ_BASICO\":\"int\",\n",
    "    \"ID_TIPO_SOCIO\":\"int\",\n",
    "    \"NOME_OU_RAZAO_SOCIAL\":\"str\",\n",
    "    \"CNPJ_CPF\":\"str\",\n",
    "    \"QUALIF_SOCIO\":\"int\",\n",
    "    \"DT_ENTRADA\":\"int\",\n",
    "    \"CD_PAIS\":\"Int64\",\n",
    "    \"REPR_LEGAL\":\"str\",\n",
    "    \"NM_REPR\":\"str\",\n",
    "    \"CD_QUALIF_REPR\":\"int\",\n",
    "    \"FAIXA_ETARIA\":\"int\"\n",
    "    }\n",
    "table='SOCIO'\n",
    "upload(local, table, dcol)\n",
    "\n",
    "remove(lista)"
   ]
  },
  {
   "cell_type": "code",
   "execution_count": null,
   "metadata": {},
   "outputs": [],
   "source": [
    "lista= extract(dirlist,\"Estabelecimentos\")\n",
    "\n",
    "local=dirpath+'*.ESTABELE'\n",
    "dcol={\n",
    "    \"CNPJ_BASICO\":\"int\",\n",
    "    \"CNPJ_ORDEM\":\"int\",\n",
    "    \"CNPJ_DV\":\"int\",\n",
    "    \"CD_MATRIZ_FILIAL\":\"int\",\n",
    "    \"NM_FANTASIA\":\"str\",\n",
    "    \"CD_SIT_CADASTRO\":\"int\",\n",
    "    \"DT_SIT_CADASTRO\":\"int\",\n",
    "    \"MOTIVO_SIT_CADASTRO\":\"int\",\n",
    "    \"NM_CIDADE_EXT\":\"str\",\n",
    "    \"CD_PAIS\":\"Int64\",\n",
    "    \"DT_INI\":\"int\",\n",
    "    \"CNAE_PRINCIPAL\":\"int\",\n",
    "    \"CNAE_SECUNDARIO\":\"str\",\n",
    "    \"TIP_LOGRADOURO\":\"str\",\n",
    "    \"LOGRADOURO\":\"str\",\n",
    "    \"NUMERO\":\"str\",\n",
    "    \"COMPLEMENTO\":\"str\",\n",
    "    \"BAIRRO\":\"str\",\n",
    "    \"CEP\":\"str\",\n",
    "    \"UF\":\"str\",\n",
    "    \"MUNICIPIO\":\"int\",\n",
    "    \"DDD_1\":\"str\",\n",
    "    \"TEL_1\":\"str\",\n",
    "    \"DDD_2\":\"str\",\n",
    "    \"TEL_2\":\"str\",\n",
    "    \"DDD_FAX\":\"str\",\n",
    "    \"FAX\":\"str\",\n",
    "    \"EMAIL\":\"str\",\n",
    "    \"SIT_ESP\":\"str\",\n",
    "    \"DT_SIT_ESP\":\"Int64\"}\n",
    "table='ESTABELE'\n",
    "upload(local, table, dcol)\n",
    "\n",
    "remove(lista)"
   ]
  },
  {
   "cell_type": "code",
   "execution_count": null,
   "metadata": {},
   "outputs": [],
   "source": [
    "ziplist = filter( lambda x: (x.find(\".zip\") > 0), dirlist)\n",
    "ziplist = [ (dirpath + f) for f in ziplist ]\n",
    "confere( remove(ziplist) )"
   ]
  },
  {
   "cell_type": "markdown",
   "metadata": {},
   "source": [
    "# Criar Views"
   ]
  },
  {
   "cell_type": "code",
   "execution_count": null,
   "metadata": {},
   "outputs": [],
   "source": [
    "# Criar Views SOCIO\n",
    "query = '''\n",
    "CREATE VIEW VW_SOCIO as\n",
    "SELECT \n",
    "\ts.CNPJ_BASICO,\n",
    "\te.RAZAO_SOCIAL,\n",
    "\t(CASE ID_TIPO_SOCIO\n",
    "\t\tWHEN 1 THEN 'PJ'\n",
    "\t\tWHEN 2 THEN 'PF'\n",
    "\t\tWHEN 3 THEN 'EX'\n",
    "\tEND) AS TIPO_SOCIO,\n",
    "\ts.NOME_OU_RAZAO_SOCIAL,\n",
    "\ts.CNPJ_CPF,\n",
    "\tq.NM_QUALS AS NM_QUALIF_SOCIO,\n",
    "\ts.DT_ENTRADA,\n",
    "\tp.PAIS,\n",
    "\ts.REPR_LEGAL AS CPF_REPR_LEGAL,\n",
    "\ts.NM_REPR,\n",
    "\tqs.NM_QUALS  AS NM_QUALIF_REPR,\n",
    "\ts.FAIXA_ETARIA \n",
    "FROM SOCIO s \n",
    "LEFT JOIN EMPRESA e \n",
    "\tON s.CNPJ_BASICO = e.CNPJ_BASICO\n",
    "LEFT JOIN QUALS q \n",
    "\tON s.QUALIF_SOCIO = q.CD_QUALS\n",
    "LEFT JOIN QUALS qs \n",
    "\tON s.QUALIF_SOCIO = qs.CD_QUALS\n",
    "LEFT JOIN PAIS p \n",
    "\tON s.CD_PAIS = p.CD_PAIS ;\n",
    "'''\n",
    "sql_exec(query)"
   ]
  },
  {
   "cell_type": "code",
   "execution_count": null,
   "metadata": {},
   "outputs": [],
   "source": [
    "# Criar Views EMPRESA\n",
    "query = '''\n",
    "CREATE view VW_EMPRESA as\n",
    "SELECT \n",
    "\te.CNPJ_BASICO,\n",
    "\te.RAZAO_SOCIAL,\n",
    "\tn.NAT_JURIDICA,\n",
    "\tq.NM_QUALS AS NM_QUAL_RESP,\n",
    "\te.CAPITAL_SOCIAL,\n",
    "\t(CASE e.PORTE_EMPRESA\n",
    "\t\tWHEN 0 THEN 'N/A'\n",
    "\t\tWHEN 1 THEN 'ME'\n",
    "\t\tWHEN 3 THEN 'EPP'\n",
    "\t\tWHEN 5 THEN 'DEMAIS'\n",
    "\tend) AS PORTE_EMPRESA ,\n",
    "\te.ENTE_FED_RESP \n",
    "FROM EMPRESA e \n",
    "LEFT JOIN NATJU n \n",
    "\tON e.NAT_JURIDICA = n.CD_NAT_JURIDICA\n",
    "LEFT JOIN QUALS q \n",
    "\tON e.QUAL_RESP = q.CD_QUALS;\n",
    "'''\n",
    "sql_exec(query)"
   ]
  },
  {
   "cell_type": "code",
   "execution_count": null,
   "metadata": {},
   "outputs": [],
   "source": [
    "# Criar Views ESTABELE\n",
    "query = '''\n",
    "CREATE view VW_ESTABELE AS\n",
    "SELECT\n",
    "\te.CNPJ_BASICO,\n",
    "\te.CNPJ_ORDEM,\n",
    "\te.CNPJ_DV,\n",
    "\t(CASE e.CD_MATRIZ_FILIAL\n",
    "\t\tWHEN 1 THEN 'MATRIZ'\n",
    "\t\tWHEN 2 THEN 'FILIAL'\n",
    "\tEND) AS MATRIZ_FILIAL , \n",
    "\te.NM_FANTASIA,\n",
    "\t(CASE e.CD_SIT_CADASTRO\n",
    "\t\tWHEN 1 THEN 'NULA'\n",
    "\t\tWHEN 2 THEN 'ATIVA'\n",
    "\t\tWHEN 3 THEN 'SUSPENSA'\n",
    "\t\tWHEN 4 THEN 'INAPTA'\n",
    "\t\tWHEN 8 THEN 'BAIXADA'\n",
    "\tend) AS SIT_CADASTRO,\n",
    "\te.DT_SIT_CADASTRO,\n",
    "\tm.MOTIVO_SIT_CADASTRO AS MOTIVO_SIT_CADASTRO,\n",
    "\te.NM_CIDADE_EXT,\n",
    "\tp.PAIS,\n",
    "\te.DT_INI,\n",
    "\tc.NM_CNAE, \n",
    "\te.CNAE_PRINCIPAL,\n",
    "\te.CNAE_SECUNDARIO,\n",
    "\te.TIP_LOGRADOURO,\n",
    "\te.LOGRADOURO,\n",
    "\te.NUMERO,\n",
    "\te.COMPLEMENTO,\n",
    "\te.BAIRRO,\n",
    "\te.CEP,\n",
    "\te.UF,\n",
    "\tm2.MUNICIPIO,\n",
    "\te.DDD_1,\n",
    "\te.TEL_1,\n",
    "\te.DDD_2,\n",
    "\te.TEL_2,\n",
    "\te.DDD_FAX,\n",
    "\te.FAX,\n",
    "\te.EMAIL,\n",
    "\te.SIT_ESP,\n",
    "\te.DT_SIT_ESP \n",
    "FROM ESTABELE e \n",
    "LEFT JOIN MOTIVOSIT m \n",
    "\tON e.MOTIVO_SIT_CADASTRO = m.CD_MOTIVO_SIT_CADASTRO \n",
    "LEFT JOIN PAIS p \n",
    "\tON e.CD_PAIS = p.CD_PAIS \n",
    "LEFT JOIN CNAE c \n",
    "\tON e.CNAE_PRINCIPAL = c.CNAE \n",
    "LEFT JOIN MUNICIPIO m2 \n",
    "\tON e.MUNICIPIO = m2.CD_MUNICIPIO ;\n",
    "'''\n",
    "sql_exec(query)"
   ]
  },
  {
   "cell_type": "code",
   "execution_count": 25,
   "metadata": {},
   "outputs": [],
   "source": [
    "# Criar uma view para grafo societario\n",
    "query = '''\n",
    "CREATE view if not exists grapho as\n",
    "SELECT\n",
    "\tSUBSTR(\"0000000\" || CNPJ_BASICO,-8) as A,\n",
    "\t(case\n",
    "\t\twhen CNPJ_CPF LIKE '***%' then (COALESCE(NOME_OU_RAZAO_SOCIAL,\"\") || \" - \" || CNPJ_CPF)\n",
    "\t\twhen CNPJ_CPF is null then NOME_OU_RAZAO_SOCIAL\n",
    "\t\telse SUBSTR(CNPJ_CPF, 1, 8) end) as B\n",
    "FROM SOCIO\n",
    "union all\n",
    "SELECT\n",
    "\tSUBSTR(\"0000000\" || CNPJ_BASICO,-8) as A,\n",
    "\t(case\n",
    "\t\twhen REPR_LEGAL LIKE '***%' then (NM_REPR || \" - \" || REPR_LEGAL)\n",
    "\t\telse NM_REPR end) as B\n",
    "FROM SOCIO\n",
    "WHERE NM_REPR is not null;\n",
    "'''\n",
    "sql_exec(query)"
   ]
  },
  {
   "cell_type": "markdown",
   "metadata": {
    "jp-MarkdownHeadingCollapsed": true,
    "tags": []
   },
   "source": [
    "## Testes"
   ]
  },
  {
   "cell_type": "code",
   "execution_count": null,
   "metadata": {},
   "outputs": [],
   "source": []
  }
 ],
 "metadata": {
  "kernelspec": {
   "display_name": "Python 3 (ipykernel)",
   "language": "python",
   "name": "python3"
  },
  "language_info": {
   "codemirror_mode": {
    "name": "ipython",
    "version": 3
   },
   "file_extension": ".py",
   "mimetype": "text/x-python",
   "name": "python",
   "nbconvert_exporter": "python",
   "pygments_lexer": "ipython3",
   "version": "3.10.11"
  },
  "vscode": {
   "interpreter": {
    "hash": "a8df82f0ff7dbbdeab208b32e1dbd0468ab7b7612b95c95cc2c310a142438cff"
   }
  }
 },
 "nbformat": 4,
 "nbformat_minor": 4
}
